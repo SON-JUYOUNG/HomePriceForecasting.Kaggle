{
 "cells": [
  {
   "cell_type": "markdown",
   "metadata": {},
   "source": [
    "# 주택가격예측"
   ]
  },
  {
   "cell_type": "code",
   "execution_count": 8,
   "metadata": {},
   "outputs": [
    {
     "name": "stderr",
     "output_type": "stream",
     "text": [
      "fatal: remote origin already exists.\n"
     ]
    },
    {
     "name": "stdout",
     "output_type": "stream",
     "text": [
      "Branch 'main' set up to track remote branch 'main' from 'origin'.\n"
     ]
    },
    {
     "name": "stderr",
     "output_type": "stream",
     "text": [
      "Everything up-to-date\n"
     ]
    }
   ],
   "source": [
    "!git remote add origin https://github.com/SON-JUYOUNG/HomePriceForecasting.Kaggle.git\n",
    "!git branch -M main\n",
    "!git push -u origin main"
   ]
  },
  {
   "cell_type": "code",
   "execution_count": 9,
   "metadata": {},
   "outputs": [
    {
     "name": "stdout",
     "output_type": "stream",
     "text": [
      "Reinitialized existing Git repository in C:/Users/user/癒몄떊�윭�떇�봽濡쒖젥�듃/.git/\n",
      "[main e7c3d60] first commit\n",
      " 1 file changed, 1 insertion(+)\n"
     ]
    },
    {
     "name": "stderr",
     "output_type": "stream",
     "text": [
      "fatal: remote origin already exists.\n"
     ]
    },
    {
     "name": "stdout",
     "output_type": "stream",
     "text": [
      "Branch 'main' set up to track remote branch 'main' from 'origin'.\n"
     ]
    },
    {
     "name": "stderr",
     "output_type": "stream",
     "text": [
      "To https://github.com/SON-JUYOUNG/HomePriceForecasting.Kaggle.git\n",
      "   700364f..e7c3d60  main -> main\n"
     ]
    }
   ],
   "source": [
    "!echo \"# HomePriceForecasting.Kaggle\" >> README.md\n",
    "!git init\n",
    "!git add README.md\n",
    "!git commit -m \"first commit\"\n",
    "!git branch -M main\n",
    "!git remote add origin https://github.com/SON-JUYOUNG/HomePriceForecasting.Kaggle.git\n",
    "!git push -u origin main"
   ]
  },
  {
   "cell_type": "markdown",
   "metadata": {},
   "source": [
    "#### 머신러닝 프로세스\n",
    "1. 문제정의\n",
    "2. 데이터 수집\n",
    "3. 데이터 전처리\n",
    "4. 탐색적 데이터 분석(EDA)\n",
    "5. 모델선택 및 하이퍼파라미터 튜닝\n",
    "6. 모델 학습\n",
    "7. 모델 평가"
   ]
  },
  {
   "cell_type": "markdown",
   "metadata": {},
   "source": [
    "#### 1. 문제정의\n",
    "- 회귀\n",
    "- 주택가격예측\n",
    "- 대회에서 높은 순위 차지"
   ]
  },
  {
   "cell_type": "markdown",
   "metadata": {},
   "source": [
    "#### 2. 데이터 수집\n",
    "- 스마트인재개발원 주관 kaggle 주택가격예측대회 데이터 셋 활용"
   ]
  },
  {
   "cell_type": "code",
   "execution_count": 1343,
   "metadata": {},
   "outputs": [],
   "source": [
    "import numpy as np\n",
    "import pandas as pd\n",
    "import matplotlib.pyplot as plt\n",
    "import seaborn as sns"
   ]
  },
  {
   "cell_type": "code",
   "execution_count": 1344,
   "metadata": {},
   "outputs": [],
   "source": [
    "train = pd.read_csv('data/train.csv', index_col = 'Id')\n",
    "test = pd.read_csv('data/test.csv', index_col = 'Id')"
   ]
  },
  {
   "cell_type": "code",
   "execution_count": 1345,
   "metadata": {},
   "outputs": [
    {
     "data": {
      "text/html": [
       "<div>\n",
       "<style scoped>\n",
       "    .dataframe tbody tr th:only-of-type {\n",
       "        vertical-align: middle;\n",
       "    }\n",
       "\n",
       "    .dataframe tbody tr th {\n",
       "        vertical-align: top;\n",
       "    }\n",
       "\n",
       "    .dataframe thead th {\n",
       "        text-align: right;\n",
       "    }\n",
       "</style>\n",
       "<table border=\"1\" class=\"dataframe\">\n",
       "  <thead>\n",
       "    <tr style=\"text-align: right;\">\n",
       "      <th></th>\n",
       "      <th>MSSubClass</th>\n",
       "      <th>MSZoning</th>\n",
       "      <th>LotFrontage</th>\n",
       "      <th>LotArea</th>\n",
       "      <th>Street</th>\n",
       "      <th>Alley</th>\n",
       "      <th>LotShape</th>\n",
       "      <th>LandContour</th>\n",
       "      <th>Utilities</th>\n",
       "      <th>LotConfig</th>\n",
       "      <th>...</th>\n",
       "      <th>PoolArea</th>\n",
       "      <th>PoolQC</th>\n",
       "      <th>Fence</th>\n",
       "      <th>MiscFeature</th>\n",
       "      <th>MiscVal</th>\n",
       "      <th>MoSold</th>\n",
       "      <th>YrSold</th>\n",
       "      <th>SaleType</th>\n",
       "      <th>SaleCondition</th>\n",
       "      <th>SalePrice</th>\n",
       "    </tr>\n",
       "    <tr>\n",
       "      <th>Id</th>\n",
       "      <th></th>\n",
       "      <th></th>\n",
       "      <th></th>\n",
       "      <th></th>\n",
       "      <th></th>\n",
       "      <th></th>\n",
       "      <th></th>\n",
       "      <th></th>\n",
       "      <th></th>\n",
       "      <th></th>\n",
       "      <th></th>\n",
       "      <th></th>\n",
       "      <th></th>\n",
       "      <th></th>\n",
       "      <th></th>\n",
       "      <th></th>\n",
       "      <th></th>\n",
       "      <th></th>\n",
       "      <th></th>\n",
       "      <th></th>\n",
       "      <th></th>\n",
       "    </tr>\n",
       "  </thead>\n",
       "  <tbody>\n",
       "    <tr>\n",
       "      <th>1</th>\n",
       "      <td>20</td>\n",
       "      <td>RL</td>\n",
       "      <td>NaN</td>\n",
       "      <td>21695</td>\n",
       "      <td>Pave</td>\n",
       "      <td>NaN</td>\n",
       "      <td>IR1</td>\n",
       "      <td>Lvl</td>\n",
       "      <td>AllPub</td>\n",
       "      <td>Corner</td>\n",
       "      <td>...</td>\n",
       "      <td>0</td>\n",
       "      <td>NaN</td>\n",
       "      <td>NaN</td>\n",
       "      <td>NaN</td>\n",
       "      <td>0</td>\n",
       "      <td>12</td>\n",
       "      <td>2009</td>\n",
       "      <td>WD</td>\n",
       "      <td>Normal</td>\n",
       "      <td>222000.000000</td>\n",
       "    </tr>\n",
       "    <tr>\n",
       "      <th>2</th>\n",
       "      <td>20</td>\n",
       "      <td>RL</td>\n",
       "      <td>NaN</td>\n",
       "      <td>10530</td>\n",
       "      <td>Pave</td>\n",
       "      <td>NaN</td>\n",
       "      <td>IR1</td>\n",
       "      <td>Lvl</td>\n",
       "      <td>AllPub</td>\n",
       "      <td>Corner</td>\n",
       "      <td>...</td>\n",
       "      <td>0</td>\n",
       "      <td>NaN</td>\n",
       "      <td>NaN</td>\n",
       "      <td>NaN</td>\n",
       "      <td>0</td>\n",
       "      <td>3</td>\n",
       "      <td>2007</td>\n",
       "      <td>WD</td>\n",
       "      <td>Normal</td>\n",
       "      <td>143250.000000</td>\n",
       "    </tr>\n",
       "    <tr>\n",
       "      <th>3</th>\n",
       "      <td>20</td>\n",
       "      <td>RL</td>\n",
       "      <td>88.0</td>\n",
       "      <td>12803</td>\n",
       "      <td>Pave</td>\n",
       "      <td>NaN</td>\n",
       "      <td>IR1</td>\n",
       "      <td>Lvl</td>\n",
       "      <td>AllPub</td>\n",
       "      <td>Inside</td>\n",
       "      <td>...</td>\n",
       "      <td>0</td>\n",
       "      <td>NaN</td>\n",
       "      <td>NaN</td>\n",
       "      <td>NaN</td>\n",
       "      <td>0</td>\n",
       "      <td>9</td>\n",
       "      <td>2008</td>\n",
       "      <td>WD</td>\n",
       "      <td>Normal</td>\n",
       "      <td>221000.000000</td>\n",
       "    </tr>\n",
       "    <tr>\n",
       "      <th>4</th>\n",
       "      <td>60</td>\n",
       "      <td>FV</td>\n",
       "      <td>114.0</td>\n",
       "      <td>8314</td>\n",
       "      <td>Pave</td>\n",
       "      <td>Pave</td>\n",
       "      <td>IR1</td>\n",
       "      <td>Lvl</td>\n",
       "      <td>AllPub</td>\n",
       "      <td>Corner</td>\n",
       "      <td>...</td>\n",
       "      <td>0</td>\n",
       "      <td>NaN</td>\n",
       "      <td>GdPrv</td>\n",
       "      <td>NaN</td>\n",
       "      <td>0</td>\n",
       "      <td>11</td>\n",
       "      <td>2006</td>\n",
       "      <td>WD</td>\n",
       "      <td>Normal</td>\n",
       "      <td>190269.599579</td>\n",
       "    </tr>\n",
       "    <tr>\n",
       "      <th>5</th>\n",
       "      <td>20</td>\n",
       "      <td>RL</td>\n",
       "      <td>78.0</td>\n",
       "      <td>10335</td>\n",
       "      <td>Pave</td>\n",
       "      <td>NaN</td>\n",
       "      <td>IR1</td>\n",
       "      <td>Lvl</td>\n",
       "      <td>AllPub</td>\n",
       "      <td>Inside</td>\n",
       "      <td>...</td>\n",
       "      <td>0</td>\n",
       "      <td>NaN</td>\n",
       "      <td>MnPrv</td>\n",
       "      <td>NaN</td>\n",
       "      <td>0</td>\n",
       "      <td>7</td>\n",
       "      <td>2006</td>\n",
       "      <td>WD</td>\n",
       "      <td>Normal</td>\n",
       "      <td>180000.000000</td>\n",
       "    </tr>\n",
       "  </tbody>\n",
       "</table>\n",
       "<p>5 rows × 80 columns</p>\n",
       "</div>"
      ],
      "text/plain": [
       "    MSSubClass MSZoning  LotFrontage  LotArea Street Alley LotShape  \\\n",
       "Id                                                                    \n",
       "1           20       RL          NaN    21695   Pave   NaN      IR1   \n",
       "2           20       RL          NaN    10530   Pave   NaN      IR1   \n",
       "3           20       RL         88.0    12803   Pave   NaN      IR1   \n",
       "4           60       FV        114.0     8314   Pave  Pave      IR1   \n",
       "5           20       RL         78.0    10335   Pave   NaN      IR1   \n",
       "\n",
       "   LandContour Utilities LotConfig  ... PoolArea PoolQC  Fence MiscFeature  \\\n",
       "Id                                  ...                                      \n",
       "1          Lvl    AllPub    Corner  ...        0    NaN    NaN         NaN   \n",
       "2          Lvl    AllPub    Corner  ...        0    NaN    NaN         NaN   \n",
       "3          Lvl    AllPub    Inside  ...        0    NaN    NaN         NaN   \n",
       "4          Lvl    AllPub    Corner  ...        0    NaN  GdPrv         NaN   \n",
       "5          Lvl    AllPub    Inside  ...        0    NaN  MnPrv         NaN   \n",
       "\n",
       "   MiscVal MoSold  YrSold  SaleType  SaleCondition      SalePrice  \n",
       "Id                                                                 \n",
       "1        0     12    2009        WD         Normal  222000.000000  \n",
       "2        0      3    2007        WD         Normal  143250.000000  \n",
       "3        0      9    2008        WD         Normal  221000.000000  \n",
       "4        0     11    2006        WD         Normal  190269.599579  \n",
       "5        0      7    2006        WD         Normal  180000.000000  \n",
       "\n",
       "[5 rows x 80 columns]"
      ]
     },
     "execution_count": 1345,
     "metadata": {},
     "output_type": "execute_result"
    }
   ],
   "source": [
    "# 데이터확인\n",
    "train.head()"
   ]
  },
  {
   "cell_type": "markdown",
   "metadata": {},
   "source": [
    "#### 3~4. 데이터 전처리 및 탐색적데이터분석(EDA)\n",
    "- 결측치\n",
    "- 특성공학(스케일링, 인코딩, 변환...)\n",
    "- 기술통계\n",
    "- 상관계수\n",
    "- 시각화"
   ]
  },
  {
   "cell_type": "code",
   "execution_count": 1346,
   "metadata": {},
   "outputs": [],
   "source": [
    "from IPython.core.display import HTML"
   ]
  },
  {
   "cell_type": "markdown",
   "metadata": {},
   "source": [
    "# 결측치 확인"
   ]
  },
  {
   "cell_type": "code",
   "execution_count": 1347,
   "metadata": {},
   "outputs": [],
   "source": [
    "from IPython.core.display import HTML"
   ]
  },
  {
   "cell_type": "code",
   "execution_count": 1348,
   "metadata": {},
   "outputs": [
    {
     "data": {
      "text/html": [
       "<h1>train</h1>"
      ],
      "text/plain": [
       "<IPython.core.display.HTML object>"
      ]
     },
     "metadata": {},
     "output_type": "display_data"
    },
    {
     "name": "stdout",
     "output_type": "stream",
     "text": [
      "<class 'pandas.core.frame.DataFrame'>\n",
      "Int64Index: 1751 entries, 1 to 1751\n",
      "Data columns (total 80 columns):\n",
      " #   Column         Non-Null Count  Dtype  \n",
      "---  ------         --------------  -----  \n",
      " 0   MSSubClass     1751 non-null   int64  \n",
      " 1   MSZoning       1747 non-null   object \n",
      " 2   LotFrontage    1450 non-null   float64\n",
      " 3   LotArea        1751 non-null   int64  \n",
      " 4   Street         1751 non-null   object \n",
      " 5   Alley          125 non-null    object \n",
      " 6   LotShape       1751 non-null   object \n",
      " 7   LandContour    1751 non-null   object \n",
      " 8   Utilities      1750 non-null   object \n",
      " 9   LotConfig      1751 non-null   object \n",
      " 10  LandSlope      1751 non-null   object \n",
      " 11  Neighborhood   1751 non-null   object \n",
      " 12  Condition1     1751 non-null   object \n",
      " 13  Condition2     1751 non-null   object \n",
      " 14  BldgType       1751 non-null   object \n",
      " 15  HouseStyle     1751 non-null   object \n",
      " 16  OverallQual    1751 non-null   int64  \n",
      " 17  OverallCond    1751 non-null   int64  \n",
      " 18  YearBuilt      1751 non-null   int64  \n",
      " 19  YearRemodAdd   1751 non-null   int64  \n",
      " 20  RoofStyle      1751 non-null   object \n",
      " 21  RoofMatl       1751 non-null   object \n",
      " 22  Exterior1st    1751 non-null   object \n",
      " 23  Exterior2nd    1751 non-null   object \n",
      " 24  MasVnrType     1734 non-null   object \n",
      " 25  MasVnrArea     1735 non-null   float64\n",
      " 26  ExterQual      1751 non-null   object \n",
      " 27  ExterCond      1751 non-null   object \n",
      " 28  Foundation     1751 non-null   object \n",
      " 29  BsmtQual       1698 non-null   object \n",
      " 30  BsmtCond       1696 non-null   object \n",
      " 31  BsmtExposure   1698 non-null   object \n",
      " 32  BsmtFinType1   1699 non-null   object \n",
      " 33  BsmtFinSF1     1750 non-null   float64\n",
      " 34  BsmtFinType2   1699 non-null   object \n",
      " 35  BsmtFinSF2     1750 non-null   float64\n",
      " 36  BsmtUnfSF      1750 non-null   float64\n",
      " 37  TotalBsmtSF    1750 non-null   float64\n",
      " 38  Heating        1751 non-null   object \n",
      " 39  HeatingQC      1751 non-null   object \n",
      " 40  CentralAir     1751 non-null   object \n",
      " 41  Electrical     1750 non-null   object \n",
      " 42  1stFlrSF       1751 non-null   int64  \n",
      " 43  2ndFlrSF       1751 non-null   int64  \n",
      " 44  LowQualFinSF   1751 non-null   int64  \n",
      " 45  GrLivArea      1751 non-null   int64  \n",
      " 46  BsmtFullBath   1750 non-null   float64\n",
      " 47  BsmtHalfBath   1750 non-null   float64\n",
      " 48  FullBath       1751 non-null   int64  \n",
      " 49  HalfBath       1751 non-null   int64  \n",
      " 50  BedroomAbvGr   1751 non-null   int64  \n",
      " 51  KitchenAbvGr   1751 non-null   int64  \n",
      " 52  KitchenQual    1751 non-null   object \n",
      " 53  TotRmsAbvGrd   1751 non-null   int64  \n",
      " 54  Functional     1749 non-null   object \n",
      " 55  Fireplaces     1751 non-null   int64  \n",
      " 56  FireplaceQu    892 non-null    object \n",
      " 57  GarageType     1652 non-null   object \n",
      " 58  GarageYrBlt    1651 non-null   float64\n",
      " 59  GarageFinish   1651 non-null   object \n",
      " 60  GarageCars     1750 non-null   float64\n",
      " 61  GarageArea     1750 non-null   float64\n",
      " 62  GarageQual     1651 non-null   object \n",
      " 63  GarageCond     1651 non-null   object \n",
      " 64  PavedDrive     1751 non-null   object \n",
      " 65  WoodDeckSF     1751 non-null   int64  \n",
      " 66  OpenPorchSF    1751 non-null   int64  \n",
      " 67  EnclosedPorch  1751 non-null   int64  \n",
      " 68  3SsnPorch      1751 non-null   int64  \n",
      " 69  ScreenPorch    1751 non-null   int64  \n",
      " 70  PoolArea       1751 non-null   int64  \n",
      " 71  PoolQC         4 non-null      object \n",
      " 72  Fence          339 non-null    object \n",
      " 73  MiscFeature    63 non-null     object \n",
      " 74  MiscVal        1751 non-null   int64  \n",
      " 75  MoSold         1751 non-null   int64  \n",
      " 76  YrSold         1751 non-null   int64  \n",
      " 77  SaleType       1751 non-null   object \n",
      " 78  SaleCondition  1751 non-null   object \n",
      " 79  SalePrice      1751 non-null   float64\n",
      "dtypes: float64(12), int64(25), object(43)\n",
      "memory usage: 1.1+ MB\n"
     ]
    },
    {
     "data": {
      "text/plain": [
       "None"
      ]
     },
     "metadata": {},
     "output_type": "display_data"
    },
    {
     "data": {
      "text/html": [
       "<h1>test</h1>"
      ],
      "text/plain": [
       "<IPython.core.display.HTML object>"
      ]
     },
     "metadata": {},
     "output_type": "display_data"
    },
    {
     "name": "stdout",
     "output_type": "stream",
     "text": [
      "<class 'pandas.core.frame.DataFrame'>\n",
      "Int64Index: 1168 entries, 1752 to 2919\n",
      "Data columns (total 79 columns):\n",
      " #   Column         Non-Null Count  Dtype  \n",
      "---  ------         --------------  -----  \n",
      " 0   MSSubClass     1168 non-null   int64  \n",
      " 1   MSZoning       1168 non-null   object \n",
      " 2   LotFrontage    983 non-null    float64\n",
      " 3   LotArea        1168 non-null   int64  \n",
      " 4   Street         1168 non-null   object \n",
      " 5   Alley          73 non-null     object \n",
      " 6   LotShape       1168 non-null   object \n",
      " 7   LandContour    1168 non-null   object \n",
      " 8   Utilities      1167 non-null   object \n",
      " 9   LotConfig      1168 non-null   object \n",
      " 10  LandSlope      1168 non-null   object \n",
      " 11  Neighborhood   1168 non-null   object \n",
      " 12  Condition1     1168 non-null   object \n",
      " 13  Condition2     1168 non-null   object \n",
      " 14  BldgType       1168 non-null   object \n",
      " 15  HouseStyle     1168 non-null   object \n",
      " 16  OverallQual    1168 non-null   int64  \n",
      " 17  OverallCond    1168 non-null   int64  \n",
      " 18  YearBuilt      1168 non-null   int64  \n",
      " 19  YearRemodAdd   1168 non-null   int64  \n",
      " 20  RoofStyle      1168 non-null   object \n",
      " 21  RoofMatl       1168 non-null   object \n",
      " 22  Exterior1st    1167 non-null   object \n",
      " 23  Exterior2nd    1167 non-null   object \n",
      " 24  MasVnrType     1161 non-null   object \n",
      " 25  MasVnrArea     1161 non-null   float64\n",
      " 26  ExterQual      1168 non-null   object \n",
      " 27  ExterCond      1168 non-null   object \n",
      " 28  Foundation     1168 non-null   object \n",
      " 29  BsmtQual       1140 non-null   object \n",
      " 30  BsmtCond       1141 non-null   object \n",
      " 31  BsmtExposure   1139 non-null   object \n",
      " 32  BsmtFinType1   1141 non-null   object \n",
      " 33  BsmtFinSF1     1168 non-null   float64\n",
      " 34  BsmtFinType2   1140 non-null   object \n",
      " 35  BsmtFinSF2     1168 non-null   float64\n",
      " 36  BsmtUnfSF      1168 non-null   float64\n",
      " 37  TotalBsmtSF    1168 non-null   float64\n",
      " 38  Heating        1168 non-null   object \n",
      " 39  HeatingQC      1168 non-null   object \n",
      " 40  CentralAir     1168 non-null   object \n",
      " 41  Electrical     1168 non-null   object \n",
      " 42  1stFlrSF       1168 non-null   int64  \n",
      " 43  2ndFlrSF       1168 non-null   int64  \n",
      " 44  LowQualFinSF   1168 non-null   int64  \n",
      " 45  GrLivArea      1168 non-null   int64  \n",
      " 46  BsmtFullBath   1167 non-null   float64\n",
      " 47  BsmtHalfBath   1167 non-null   float64\n",
      " 48  FullBath       1168 non-null   int64  \n",
      " 49  HalfBath       1168 non-null   int64  \n",
      " 50  BedroomAbvGr   1168 non-null   int64  \n",
      " 51  KitchenAbvGr   1168 non-null   int64  \n",
      " 52  KitchenQual    1167 non-null   object \n",
      " 53  TotRmsAbvGrd   1168 non-null   int64  \n",
      " 54  Functional     1168 non-null   object \n",
      " 55  Fireplaces     1168 non-null   int64  \n",
      " 56  FireplaceQu    607 non-null    object \n",
      " 57  GarageType     1110 non-null   object \n",
      " 58  GarageYrBlt    1109 non-null   float64\n",
      " 59  GarageFinish   1109 non-null   object \n",
      " 60  GarageCars     1168 non-null   float64\n",
      " 61  GarageArea     1168 non-null   float64\n",
      " 62  GarageQual     1109 non-null   object \n",
      " 63  GarageCond     1109 non-null   object \n",
      " 64  PavedDrive     1168 non-null   object \n",
      " 65  WoodDeckSF     1168 non-null   int64  \n",
      " 66  OpenPorchSF    1168 non-null   int64  \n",
      " 67  EnclosedPorch  1168 non-null   int64  \n",
      " 68  3SsnPorch      1168 non-null   int64  \n",
      " 69  ScreenPorch    1168 non-null   int64  \n",
      " 70  PoolArea       1168 non-null   int64  \n",
      " 71  PoolQC         6 non-null      object \n",
      " 72  Fence          232 non-null    object \n",
      " 73  MiscFeature    42 non-null     object \n",
      " 74  MiscVal        1168 non-null   int64  \n",
      " 75  MoSold         1168 non-null   int64  \n",
      " 76  YrSold         1168 non-null   int64  \n",
      " 77  SaleType       1167 non-null   object \n",
      " 78  SaleCondition  1168 non-null   object \n",
      "dtypes: float64(11), int64(25), object(43)\n",
      "memory usage: 730.0+ KB\n"
     ]
    },
    {
     "data": {
      "text/plain": [
       "None"
      ]
     },
     "metadata": {},
     "output_type": "display_data"
    }
   ],
   "source": [
    "display(HTML(\"<h1>train</h1>\"))\n",
    "display(train.info())\n",
    "display(HTML(\"<h1>test</h1>\"))\n",
    "display(test.info())"
   ]
  },
  {
   "cell_type": "markdown",
   "metadata": {},
   "source": [
    "# 상관계수 확인"
   ]
  },
  {
   "cell_type": "code",
   "execution_count": 1349,
   "metadata": {},
   "outputs": [
    {
     "data": {
      "text/plain": [
       "<matplotlib.axes._subplots.AxesSubplot at 0x1f8028fafd0>"
      ]
     },
     "execution_count": 1349,
     "metadata": {},
     "output_type": "execute_result"
    },
    {
     "data": {
      "image/png": "[encoded data removed]",
      "text/plain": [
       "<Figure size 1440x1080 with 2 Axes>"
      ]
     },
     "metadata": {
      "needs_background": "light"
     },
     "output_type": "display_data"
    }
   ],
   "source": [
    "corr=train.corr()\n",
    "top_corr=train[corr.nlargest(40,'SalePrice')['SalePrice'].index].corr()\n",
    "figure, ax1 = plt.subplots(nrows=1, ncols=1)\n",
    "figure.set_size_inches(20,15)\n",
    "sns.heatmap(top_corr, annot=True, ax=ax1)"
   ]
  },
  {
   "cell_type": "code",
   "execution_count": 1350,
   "metadata": {},
   "outputs": [
    {
     "data": {
      "text/plain": [
       "Index(['LotFrontage', 'OverallQual', 'YearBuilt', 'YearRemodAdd', 'MasVnrArea',\n",
       "       'BsmtFinSF1', 'TotalBsmtSF', '1stFlrSF', 'GrLivArea', 'FullBath',\n",
       "       'TotRmsAbvGrd', 'Fireplaces', 'GarageYrBlt', 'GarageCars', 'GarageArea',\n",
       "       'WoodDeckSF', 'OpenPorchSF', 'SalePrice'],\n",
       "      dtype='object')"
      ]
     },
     "execution_count": 1350,
     "metadata": {},
     "output_type": "execute_result"
    }
   ],
   "source": [
    "corrmat = train.corr()\n",
    "top_corr_features = corrmat.index[abs(corrmat[\"SalePrice\"])>=0.3]\n",
    "top_corr_features"
   ]
  },
  {
   "cell_type": "markdown",
   "metadata": {},
   "source": [
    "# 이상치 제거"
   ]
  },
  {
   "cell_type": "code",
   "execution_count": 1351,
   "metadata": {},
   "outputs": [
    {
     "data": {
      "text/plain": [
       "<matplotlib.axes._subplots.AxesSubplot at 0x1f807092610>"
      ]
     },
     "execution_count": 1351,
     "metadata": {},
     "output_type": "execute_result"
    },
    {
     "data": {
      "image/png": "[encoded data removed]",
      "text/plain": [
       "<Figure size 432x288 with 1 Axes>"
      ]
     },
     "metadata": {
      "needs_background": "light"
     },
     "output_type": "display_data"
    }
   ],
   "source": [
    "sns.regplot(train['GrLivArea'], train['SalePrice'])"
   ]
  },
  {
   "cell_type": "code",
   "execution_count": 1352,
   "metadata": {},
   "outputs": [],
   "source": [
    "train=train.drop(train[(train['GrLivArea']>4000) & (train['SalePrice']<300000)].index)"
   ]
  },
  {
   "cell_type": "markdown",
   "metadata": {},
   "source": [
    "# 결측치 채우기\n",
    " - 오브젝트 타입은 최빈값\n",
    " - 수치형 타입은 중간값, 혹은 최빈값으로 채웠음"
   ]
  },
  {
   "cell_type": "code",
   "execution_count": 1353,
   "metadata": {},
   "outputs": [
    {
     "data": {
      "text/plain": [
       "AllPub    1166\n",
       "NoSeWa       1\n",
       "Name: Utilities, dtype: int64"
      ]
     },
     "execution_count": 1353,
     "metadata": {},
     "output_type": "execute_result"
    }
   ],
   "source": [
    "test['Utilities'].value_counts()"
   ]
  },
  {
   "cell_type": "code",
   "execution_count": 1354,
   "metadata": {},
   "outputs": [
    {
     "data": {
      "text/plain": [
       "AllPub    1748\n",
       "Name: Utilities, dtype: int64"
      ]
     },
     "execution_count": 1354,
     "metadata": {},
     "output_type": "execute_result"
    }
   ],
   "source": [
    "train['Utilities'].value_counts()"
   ]
  },
  {
   "cell_type": "code",
   "execution_count": 1355,
   "metadata": {},
   "outputs": [],
   "source": [
    "train['Utilities'].fillna('AllPub', inplace = True)\n",
    "test['Utilities'].fillna('AllPub', inplace = True)"
   ]
  },
  {
   "cell_type": "code",
   "execution_count": 1356,
   "metadata": {},
   "outputs": [
    {
     "data": {
      "text/plain": [
       "None       1044\n",
       "BrkFace     519\n",
       "Stone       156\n",
       "BrkCmn       13\n",
       "Name: MasVnrType, dtype: int64"
      ]
     },
     "execution_count": 1356,
     "metadata": {},
     "output_type": "execute_result"
    }
   ],
   "source": [
    "train['MasVnrType'].value_counts()"
   ]
  },
  {
   "cell_type": "code",
   "execution_count": 1357,
   "metadata": {},
   "outputs": [
    {
     "data": {
      "text/plain": [
       "None       698\n",
       "BrkFace    360\n",
       "Stone       91\n",
       "BrkCmn      12\n",
       "Name: MasVnrType, dtype: int64"
      ]
     },
     "execution_count": 1357,
     "metadata": {},
     "output_type": "execute_result"
    }
   ],
   "source": [
    "test['MasVnrType'].value_counts()"
   ]
  },
  {
   "cell_type": "code",
   "execution_count": 1358,
   "metadata": {},
   "outputs": [],
   "source": [
    "train['MasVnrType'].fillna('None', inplace = True)\n",
    "test['MasVnrType'].fillna('None', inplace = True)"
   ]
  },
  {
   "cell_type": "code",
   "execution_count": 1359,
   "metadata": {},
   "outputs": [
    {
     "data": {
      "text/plain": [
       "TA    772\n",
       "Gd    713\n",
       "Ex    155\n",
       "Fa     56\n",
       "Name: BsmtQual, dtype: int64"
      ]
     },
     "execution_count": 1359,
     "metadata": {},
     "output_type": "execute_result"
    }
   ],
   "source": [
    "train['BsmtQual'].value_counts()"
   ]
  },
  {
   "cell_type": "code",
   "execution_count": 1360,
   "metadata": {},
   "outputs": [
    {
     "data": {
      "text/plain": [
       "TA    511\n",
       "Gd    496\n",
       "Ex    101\n",
       "Fa     32\n",
       "Name: BsmtQual, dtype: int64"
      ]
     },
     "execution_count": 1360,
     "metadata": {},
     "output_type": "execute_result"
    }
   ],
   "source": [
    "test['BsmtQual'].value_counts()"
   ]
  },
  {
   "cell_type": "code",
   "execution_count": 1361,
   "metadata": {},
   "outputs": [],
   "source": [
    "train['BsmtQual'].fillna('TA', inplace = True)\n",
    "test['BsmtQual'].fillna('TA', inplace = True)"
   ]
  },
  {
   "cell_type": "code",
   "execution_count": 1362,
   "metadata": {},
   "outputs": [
    {
     "data": {
      "text/plain": [
       "TA    1547\n",
       "Gd      77\n",
       "Fa      68\n",
       "Po       2\n",
       "Name: BsmtCond, dtype: int64"
      ]
     },
     "execution_count": 1362,
     "metadata": {},
     "output_type": "execute_result"
    }
   ],
   "source": [
    "train['BsmtCond'].value_counts()"
   ]
  },
  {
   "cell_type": "code",
   "execution_count": 1363,
   "metadata": {},
   "outputs": [
    {
     "data": {
      "text/plain": [
       "TA    1057\n",
       "Gd      45\n",
       "Fa      36\n",
       "Po       3\n",
       "Name: BsmtCond, dtype: int64"
      ]
     },
     "execution_count": 1363,
     "metadata": {},
     "output_type": "execute_result"
    }
   ],
   "source": [
    "test['BsmtCond'].value_counts()"
   ]
  },
  {
   "cell_type": "code",
   "execution_count": 1364,
   "metadata": {},
   "outputs": [],
   "source": [
    "train['BsmtCond'].fillna('TA', inplace = True)\n",
    "test['BsmtCond'].fillna('TA', inplace = True)"
   ]
  },
  {
   "cell_type": "code",
   "execution_count": 1365,
   "metadata": {},
   "outputs": [
    {
     "data": {
      "text/plain": [
       "No    1142\n",
       "Av     257\n",
       "Gd     156\n",
       "Mn     141\n",
       "Name: BsmtExposure, dtype: int64"
      ]
     },
     "execution_count": 1365,
     "metadata": {},
     "output_type": "execute_result"
    }
   ],
   "source": [
    "train['BsmtExposure'].value_counts()"
   ]
  },
  {
   "cell_type": "code",
   "execution_count": 1366,
   "metadata": {},
   "outputs": [
    {
     "data": {
      "text/plain": [
       "No    762\n",
       "Av    161\n",
       "Gd    118\n",
       "Mn     98\n",
       "Name: BsmtExposure, dtype: int64"
      ]
     },
     "execution_count": 1366,
     "metadata": {},
     "output_type": "execute_result"
    }
   ],
   "source": [
    "test['BsmtExposure'].value_counts()"
   ]
  },
  {
   "cell_type": "code",
   "execution_count": 1367,
   "metadata": {},
   "outputs": [],
   "source": [
    "train['BsmtExposure'].fillna('No', inplace = True)\n",
    "test['BsmtExposure'].fillna('No', inplace = True)"
   ]
  },
  {
   "cell_type": "code",
   "execution_count": 1368,
   "metadata": {},
   "outputs": [
    {
     "data": {
      "text/plain": [
       "Unf    508\n",
       "GLQ    501\n",
       "ALQ    250\n",
       "Rec    182\n",
       "BLQ    169\n",
       "LwQ     87\n",
       "Name: BsmtFinType1, dtype: int64"
      ]
     },
     "execution_count": 1368,
     "metadata": {},
     "output_type": "execute_result"
    }
   ],
   "source": [
    "train['BsmtFinType1'].value_counts()"
   ]
  },
  {
   "cell_type": "code",
   "execution_count": 1369,
   "metadata": {},
   "outputs": [
    {
     "data": {
      "text/plain": [
       "GLQ    346\n",
       "Unf    343\n",
       "ALQ    179\n",
       "Rec    106\n",
       "BLQ    100\n",
       "LwQ     67\n",
       "Name: BsmtFinType1, dtype: int64"
      ]
     },
     "execution_count": 1369,
     "metadata": {},
     "output_type": "execute_result"
    }
   ],
   "source": [
    "test['BsmtFinType1'].value_counts()"
   ]
  },
  {
   "cell_type": "code",
   "execution_count": 1370,
   "metadata": {},
   "outputs": [],
   "source": [
    "train['BsmtFinType1'].fillna('Unf', inplace = True)\n",
    "test['BsmtFinType1'].fillna('GLQ', inplace = True)"
   ]
  },
  {
   "cell_type": "code",
   "execution_count": 1371,
   "metadata": {},
   "outputs": [
    {
     "data": {
      "text/plain": [
       "Unf    1497\n",
       "Rec      64\n",
       "LwQ      50\n",
       "BLQ      42\n",
       "ALQ      31\n",
       "GLQ      13\n",
       "Name: BsmtFinType2, dtype: int64"
      ]
     },
     "execution_count": 1371,
     "metadata": {},
     "output_type": "execute_result"
    }
   ],
   "source": [
    "train['BsmtFinType2'].value_counts()"
   ]
  },
  {
   "cell_type": "code",
   "execution_count": 1372,
   "metadata": {},
   "outputs": [
    {
     "data": {
      "text/plain": [
       "Unf    994\n",
       "Rec     41\n",
       "LwQ     37\n",
       "BLQ     26\n",
       "GLQ     21\n",
       "ALQ     21\n",
       "Name: BsmtFinType2, dtype: int64"
      ]
     },
     "execution_count": 1372,
     "metadata": {},
     "output_type": "execute_result"
    }
   ],
   "source": [
    "test['BsmtFinType2'].value_counts()"
   ]
  },
  {
   "cell_type": "code",
   "execution_count": 1373,
   "metadata": {},
   "outputs": [],
   "source": [
    "train['BsmtFinType2'].fillna('Unf', inplace = True)\n",
    "test['BsmtFinType2'].fillna('Unf', inplace = True)"
   ]
  },
  {
   "cell_type": "code",
   "execution_count": 1374,
   "metadata": {},
   "outputs": [
    {
     "data": {
      "text/plain": [
       "Gd    436\n",
       "TA    364\n",
       "Fa     42\n",
       "Po     26\n",
       "Ex     22\n",
       "Name: FireplaceQu, dtype: int64"
      ]
     },
     "execution_count": 1374,
     "metadata": {},
     "output_type": "execute_result"
    }
   ],
   "source": [
    "train['FireplaceQu'].value_counts()"
   ]
  },
  {
   "cell_type": "code",
   "execution_count": 1375,
   "metadata": {},
   "outputs": [
    {
     "data": {
      "text/plain": [
       "Gd    306\n",
       "TA    228\n",
       "Fa     32\n",
       "Ex     21\n",
       "Po     20\n",
       "Name: FireplaceQu, dtype: int64"
      ]
     },
     "execution_count": 1375,
     "metadata": {},
     "output_type": "execute_result"
    }
   ],
   "source": [
    "test['FireplaceQu'].value_counts()"
   ]
  },
  {
   "cell_type": "code",
   "execution_count": 1376,
   "metadata": {},
   "outputs": [],
   "source": [
    "train['FireplaceQu'].fillna('Gd', inplace = True)\n",
    "test['FireplaceQu'].fillna('Gd', inplace = True)"
   ]
  },
  {
   "cell_type": "code",
   "execution_count": 1377,
   "metadata": {},
   "outputs": [
    {
     "data": {
      "text/plain": [
       "Attchd     1039\n",
       "Detchd      466\n",
       "BuiltIn      99\n",
       "Basment      22\n",
       "2Types       14\n",
       "CarPort      10\n",
       "Name: GarageType, dtype: int64"
      ]
     },
     "execution_count": 1377,
     "metadata": {},
     "output_type": "execute_result"
    }
   ],
   "source": [
    "train['GarageType'].value_counts()"
   ]
  },
  {
   "cell_type": "code",
   "execution_count": 1378,
   "metadata": {},
   "outputs": [
    {
     "data": {
      "text/plain": [
       "Attchd     683\n",
       "Detchd     313\n",
       "BuiltIn     86\n",
       "Basment     14\n",
       "2Types       9\n",
       "CarPort      5\n",
       "Name: GarageType, dtype: int64"
      ]
     },
     "execution_count": 1378,
     "metadata": {},
     "output_type": "execute_result"
    }
   ],
   "source": [
    "test['GarageType'].value_counts()"
   ]
  },
  {
   "cell_type": "code",
   "execution_count": 1379,
   "metadata": {},
   "outputs": [],
   "source": [
    "train['GarageType'].fillna('Attchd', inplace = True)\n",
    "test['GarageType'].fillna('Attchd', inplace = True)"
   ]
  },
  {
   "cell_type": "code",
   "execution_count": 1380,
   "metadata": {},
   "outputs": [
    {
     "data": {
      "text/plain": [
       "Unf    736\n",
       "RFn    479\n",
       "Fin    434\n",
       "Name: GarageFinish, dtype: int64"
      ]
     },
     "execution_count": 1380,
     "metadata": {},
     "output_type": "execute_result"
    }
   ],
   "source": [
    "train['GarageFinish'].value_counts()"
   ]
  },
  {
   "cell_type": "code",
   "execution_count": 1381,
   "metadata": {},
   "outputs": [
    {
     "data": {
      "text/plain": [
       "Unf    494\n",
       "RFn    332\n",
       "Fin    283\n",
       "Name: GarageFinish, dtype: int64"
      ]
     },
     "execution_count": 1381,
     "metadata": {},
     "output_type": "execute_result"
    }
   ],
   "source": [
    "test['GarageFinish'].value_counts()"
   ]
  },
  {
   "cell_type": "code",
   "execution_count": 1382,
   "metadata": {},
   "outputs": [],
   "source": [
    "train['GarageFinish'].fillna('Unf', inplace = True)\n",
    "test['GarageFinish'].fillna('Unf', inplace = True)"
   ]
  },
  {
   "cell_type": "code",
   "execution_count": 1383,
   "metadata": {},
   "outputs": [
    {
     "data": {
      "text/plain": [
       "TA    1559\n",
       "Fa      72\n",
       "Gd      12\n",
       "Po       3\n",
       "Ex       3\n",
       "Name: GarageQual, dtype: int64"
      ]
     },
     "execution_count": 1383,
     "metadata": {},
     "output_type": "execute_result"
    }
   ],
   "source": [
    "train['GarageQual'].value_counts()"
   ]
  },
  {
   "cell_type": "code",
   "execution_count": 1384,
   "metadata": {},
   "outputs": [
    {
     "data": {
      "text/plain": [
       "TA    1043\n",
       "Fa      52\n",
       "Gd      12\n",
       "Po       2\n",
       "Name: GarageQual, dtype: int64"
      ]
     },
     "execution_count": 1384,
     "metadata": {},
     "output_type": "execute_result"
    }
   ],
   "source": [
    "test['GarageQual'].value_counts()"
   ]
  },
  {
   "cell_type": "code",
   "execution_count": 1385,
   "metadata": {},
   "outputs": [],
   "source": [
    "train['GarageQual'].fillna('TA', inplace = True)\n",
    "test['GarageQual'].fillna('TA', inplace = True)"
   ]
  },
  {
   "cell_type": "code",
   "execution_count": 1386,
   "metadata": {},
   "outputs": [
    {
     "data": {
      "text/plain": [
       "TA    1581\n",
       "Fa      48\n",
       "Gd      10\n",
       "Po       7\n",
       "Ex       3\n",
       "Name: GarageCond, dtype: int64"
      ]
     },
     "execution_count": 1386,
     "metadata": {},
     "output_type": "execute_result"
    }
   ],
   "source": [
    "train['GarageCond'].value_counts()"
   ]
  },
  {
   "cell_type": "code",
   "execution_count": 1387,
   "metadata": {},
   "outputs": [
    {
     "data": {
      "text/plain": [
       "TA    1071\n",
       "Fa      26\n",
       "Po       7\n",
       "Gd       5\n",
       "Name: GarageCond, dtype: int64"
      ]
     },
     "execution_count": 1387,
     "metadata": {},
     "output_type": "execute_result"
    }
   ],
   "source": [
    "test['GarageCond'].value_counts()"
   ]
  },
  {
   "cell_type": "code",
   "execution_count": 1388,
   "metadata": {},
   "outputs": [],
   "source": [
    "train['GarageCond'].fillna('TA', inplace = True)\n",
    "test['GarageCond'].fillna('TA', inplace = True)"
   ]
  },
  {
   "cell_type": "code",
   "execution_count": 1389,
   "metadata": {},
   "outputs": [
    {
     "data": {
      "text/plain": [
       "VinylSd    418\n",
       "Wd Sdng    175\n",
       "HdBoard    175\n",
       "MetalSd    167\n",
       "Plywood     80\n",
       "CemntBd     54\n",
       "BrkFace     42\n",
       "WdShing     20\n",
       "Stucco      17\n",
       "AsbShng     14\n",
       "BrkComm      3\n",
       "ImStucc      1\n",
       "AsphShn      1\n",
       "Name: Exterior1st, dtype: int64"
      ]
     },
     "execution_count": 1389,
     "metadata": {},
     "output_type": "execute_result"
    }
   ],
   "source": [
    "test['Exterior1st'].value_counts()"
   ]
  },
  {
   "cell_type": "code",
   "execution_count": 1390,
   "metadata": {},
   "outputs": [],
   "source": [
    "test['Exterior1st'].fillna('VinylSd', inplace = True)"
   ]
  },
  {
   "cell_type": "code",
   "execution_count": 1391,
   "metadata": {},
   "outputs": [
    {
     "data": {
      "text/plain": [
       "VinylSd    412\n",
       "Wd Sdng    176\n",
       "MetalSd    164\n",
       "HdBoard    158\n",
       "Plywood    101\n",
       "CmentBd     53\n",
       "Wd Shng     27\n",
       "BrkFace     23\n",
       "Stucco      18\n",
       "AsbShng     14\n",
       "Brk Cmn      8\n",
       "ImStucc      7\n",
       "Stone        3\n",
       "AsphShn      3\n",
       "Name: Exterior2nd, dtype: int64"
      ]
     },
     "execution_count": 1391,
     "metadata": {},
     "output_type": "execute_result"
    }
   ],
   "source": [
    "test['Exterior2nd'].value_counts()"
   ]
  },
  {
   "cell_type": "code",
   "execution_count": 1392,
   "metadata": {},
   "outputs": [],
   "source": [
    "test['Exterior2nd'].fillna('VinylSd', inplace = True)"
   ]
  },
  {
   "cell_type": "code",
   "execution_count": 1393,
   "metadata": {},
   "outputs": [
    {
     "data": {
      "text/plain": [
       "TA    580\n",
       "Gd    472\n",
       "Ex     83\n",
       "Fa     32\n",
       "Name: KitchenQual, dtype: int64"
      ]
     },
     "execution_count": 1393,
     "metadata": {},
     "output_type": "execute_result"
    }
   ],
   "source": [
    "test['KitchenQual'].value_counts()"
   ]
  },
  {
   "cell_type": "code",
   "execution_count": 1394,
   "metadata": {},
   "outputs": [],
   "source": [
    "test['KitchenQual'].fillna('TA', inplace = True)"
   ]
  },
  {
   "cell_type": "code",
   "execution_count": 1395,
   "metadata": {},
   "outputs": [
    {
     "data": {
      "text/plain": [
       "WD       1004\n",
       "New        94\n",
       "COD        40\n",
       "ConLD      14\n",
       "CWD         5\n",
       "Oth         3\n",
       "Con         3\n",
       "ConLw       2\n",
       "ConLI       2\n",
       "Name: SaleType, dtype: int64"
      ]
     },
     "execution_count": 1395,
     "metadata": {},
     "output_type": "execute_result"
    }
   ],
   "source": [
    "test['SaleType'].value_counts()"
   ]
  },
  {
   "cell_type": "code",
   "execution_count": 1396,
   "metadata": {},
   "outputs": [],
   "source": [
    "test['SaleType'].fillna('WD', inplace = True)"
   ]
  },
  {
   "cell_type": "code",
   "execution_count": 1397,
   "metadata": {},
   "outputs": [
    {
     "data": {
      "text/plain": [
       "RL         1361\n",
       "RM          276\n",
       "FV           77\n",
       "RH           17\n",
       "C (all)      14\n",
       "Name: MSZoning, dtype: int64"
      ]
     },
     "execution_count": 1397,
     "metadata": {},
     "output_type": "execute_result"
    }
   ],
   "source": [
    "train['MSZoning'].value_counts()"
   ]
  },
  {
   "cell_type": "code",
   "execution_count": 1398,
   "metadata": {},
   "outputs": [],
   "source": [
    "train['MSZoning'].fillna('RL', inplace = True)"
   ]
  },
  {
   "cell_type": "code",
   "execution_count": 1399,
   "metadata": {},
   "outputs": [
    {
     "data": {
      "text/plain": [
       "SBrkr    1599\n",
       "FuseA     104\n",
       "FuseF      40\n",
       "FuseP       4\n",
       "Mix         1\n",
       "Name: Electrical, dtype: int64"
      ]
     },
     "execution_count": 1399,
     "metadata": {},
     "output_type": "execute_result"
    }
   ],
   "source": [
    "train['Electrical'].value_counts()"
   ]
  },
  {
   "cell_type": "code",
   "execution_count": 1400,
   "metadata": {},
   "outputs": [],
   "source": [
    "train['Electrical'].fillna('SBrkr', inplace = True)"
   ]
  },
  {
   "cell_type": "code",
   "execution_count": 1401,
   "metadata": {},
   "outputs": [
    {
     "data": {
      "text/plain": [
       "Typ     1627\n",
       "Min2      47\n",
       "Min1      39\n",
       "Maj1      13\n",
       "Mod       12\n",
       "Maj2       7\n",
       "Sev        2\n",
       "Name: Functional, dtype: int64"
      ]
     },
     "execution_count": 1401,
     "metadata": {},
     "output_type": "execute_result"
    }
   ],
   "source": [
    "train['Functional'].value_counts()"
   ]
  },
  {
   "cell_type": "code",
   "execution_count": 1402,
   "metadata": {},
   "outputs": [],
   "source": [
    "train['Functional'].fillna('Typ', inplace = True)"
   ]
  },
  {
   "cell_type": "code",
   "execution_count": 1403,
   "metadata": {},
   "outputs": [
    {
     "data": {
      "text/plain": [
       "0.0       157\n",
       "384.0      10\n",
       "270.0       8\n",
       "324.0       7\n",
       "624.0       7\n",
       "         ... \n",
       "863.0       1\n",
       "418.0       1\n",
       "581.0       1\n",
       "1491.0      1\n",
       "1074.0      1\n",
       "Name: BsmtUnfSF, Length: 873, dtype: int64"
      ]
     },
     "execution_count": 1403,
     "metadata": {},
     "output_type": "execute_result"
    }
   ],
   "source": [
    "train['BsmtUnfSF'].value_counts()"
   ]
  },
  {
   "cell_type": "code",
   "execution_count": 1404,
   "metadata": {},
   "outputs": [],
   "source": [
    "train['BsmtUnfSF'].fillna(461.0, inplace = True)"
   ]
  },
  {
   "cell_type": "code",
   "execution_count": 1405,
   "metadata": {},
   "outputs": [
    {
     "data": {
      "text/plain": [
       "0.0    1045\n",
       "1.0     682\n",
       "2.0      20\n",
       "3.0       1\n",
       "Name: BsmtFullBath, dtype: int64"
      ]
     },
     "execution_count": 1405,
     "metadata": {},
     "output_type": "execute_result"
    }
   ],
   "source": [
    "train['BsmtFullBath'].value_counts()"
   ]
  },
  {
   "cell_type": "code",
   "execution_count": 1406,
   "metadata": {},
   "outputs": [],
   "source": [
    "train['BsmtFullBath'].fillna(0.0, inplace = True)"
   ]
  },
  {
   "cell_type": "code",
   "execution_count": 1407,
   "metadata": {},
   "outputs": [
    {
     "data": {
      "text/plain": [
       "0.0    660\n",
       "1.0    489\n",
       "2.0     17\n",
       "3.0      1\n",
       "Name: BsmtFullBath, dtype: int64"
      ]
     },
     "execution_count": 1407,
     "metadata": {},
     "output_type": "execute_result"
    }
   ],
   "source": [
    "test['BsmtFullBath'].value_counts()"
   ]
  },
  {
   "cell_type": "code",
   "execution_count": 1408,
   "metadata": {},
   "outputs": [],
   "source": [
    "test['BsmtFullBath'].fillna(0.0, inplace = True)"
   ]
  },
  {
   "cell_type": "code",
   "execution_count": 1409,
   "metadata": {},
   "outputs": [
    {
     "data": {
      "text/plain": [
       "0.0       157\n",
       "384.0      10\n",
       "270.0       8\n",
       "324.0       7\n",
       "624.0       7\n",
       "         ... \n",
       "863.0       1\n",
       "418.0       1\n",
       "581.0       1\n",
       "1491.0      1\n",
       "1074.0      1\n",
       "Name: BsmtUnfSF, Length: 873, dtype: int64"
      ]
     },
     "execution_count": 1409,
     "metadata": {},
     "output_type": "execute_result"
    }
   ],
   "source": [
    "train['BsmtUnfSF'].value_counts()"
   ]
  },
  {
   "cell_type": "code",
   "execution_count": 1410,
   "metadata": {},
   "outputs": [],
   "source": [
    "train['BsmtUnfSF'].fillna(461.0, inplace = True)"
   ]
  },
  {
   "cell_type": "code",
   "execution_count": 1411,
   "metadata": {},
   "outputs": [
    {
     "data": {
      "text/plain": [
       "2005.0    80\n",
       "2006.0    67\n",
       "2004.0    65\n",
       "2007.0    63\n",
       "2003.0    55\n",
       "          ..\n",
       "1908.0     1\n",
       "1923.0     1\n",
       "1943.0     1\n",
       "1929.0     1\n",
       "1919.0     1\n",
       "Name: GarageYrBlt, Length: 99, dtype: int64"
      ]
     },
     "execution_count": 1411,
     "metadata": {},
     "output_type": "execute_result"
    }
   ],
   "source": [
    "train['GarageYrBlt'].value_counts()"
   ]
  },
  {
   "cell_type": "code",
   "execution_count": 1412,
   "metadata": {},
   "outputs": [],
   "source": [
    "train['GarageYrBlt'].fillna(0, inplace = True)"
   ]
  },
  {
   "cell_type": "code",
   "execution_count": 1413,
   "metadata": {},
   "outputs": [
    {
     "data": {
      "text/plain": [
       "2005.0    62\n",
       "2007.0    51\n",
       "2006.0    48\n",
       "2003.0    37\n",
       "2004.0    34\n",
       "          ..\n",
       "1895.0     1\n",
       "1937.0     1\n",
       "1931.0     1\n",
       "1929.0     1\n",
       "1933.0     1\n",
       "Name: GarageYrBlt, Length: 95, dtype: int64"
      ]
     },
     "execution_count": 1413,
     "metadata": {},
     "output_type": "execute_result"
    }
   ],
   "source": [
    "test['GarageYrBlt'].value_counts()"
   ]
  },
  {
   "cell_type": "code",
   "execution_count": 1414,
   "metadata": {},
   "outputs": [],
   "source": [
    "test['GarageYrBlt'].fillna(0, inplace = True)"
   ]
  },
  {
   "cell_type": "code",
   "execution_count": 1415,
   "metadata": {},
   "outputs": [
    {
     "data": {
      "text/plain": [
       "2.0    953\n",
       "1.0    459\n",
       "3.0    228\n",
       "0.0     99\n",
       "4.0      8\n",
       "5.0      1\n",
       "Name: GarageCars, dtype: int64"
      ]
     },
     "execution_count": 1415,
     "metadata": {},
     "output_type": "execute_result"
    }
   ],
   "source": [
    "train['GarageCars'].value_counts()"
   ]
  },
  {
   "cell_type": "code",
   "execution_count": 1416,
   "metadata": {},
   "outputs": [],
   "source": [
    "train['GarageCars'].fillna(2.0, inplace = True)"
   ]
  },
  {
   "cell_type": "code",
   "execution_count": 1417,
   "metadata": {},
   "outputs": [
    {
     "data": {
      "text/plain": [
       "0.0      99\n",
       "576.0    64\n",
       "440.0    63\n",
       "240.0    41\n",
       "528.0    39\n",
       "         ..\n",
       "739.0     1\n",
       "355.0     1\n",
       "213.0     1\n",
       "936.0     1\n",
       "613.0     1\n",
       "Name: GarageArea, Length: 497, dtype: int64"
      ]
     },
     "execution_count": 1417,
     "metadata": {},
     "output_type": "execute_result"
    }
   ],
   "source": [
    "train['GarageArea'].value_counts()"
   ]
  },
  {
   "cell_type": "code",
   "execution_count": 1418,
   "metadata": {},
   "outputs": [],
   "source": [
    "train['GarageArea'].fillna(480.0, inplace = True)"
   ]
  },
  {
   "cell_type": "code",
   "execution_count": 1419,
   "metadata": {},
   "outputs": [
    {
     "data": {
      "text/plain": [
       "0.0       1040\n",
       "176.0        9\n",
       "180.0        9\n",
       "216.0        9\n",
       "108.0        9\n",
       "          ... \n",
       "283.0        1\n",
       "674.0        1\n",
       "327.0        1\n",
       "372.0        1\n",
       "1031.0       1\n",
       "Name: MasVnrArea, Length: 340, dtype: int64"
      ]
     },
     "execution_count": 1419,
     "metadata": {},
     "output_type": "execute_result"
    }
   ],
   "source": [
    "train['MasVnrArea'].value_counts()"
   ]
  },
  {
   "cell_type": "code",
   "execution_count": 1420,
   "metadata": {},
   "outputs": [],
   "source": [
    "train['MasVnrArea'].fillna(0.0, inplace = True)"
   ]
  },
  {
   "cell_type": "code",
   "execution_count": 1421,
   "metadata": {},
   "outputs": [
    {
     "data": {
      "text/plain": [
       "0.0      698\n",
       "120.0      8\n",
       "200.0      7\n",
       "16.0       6\n",
       "144.0      5\n",
       "        ... \n",
       "970.0      1\n",
       "766.0      1\n",
       "451.0      1\n",
       "653.0      1\n",
       "294.0      1\n",
       "Name: MasVnrArea, Length: 273, dtype: int64"
      ]
     },
     "execution_count": 1421,
     "metadata": {},
     "output_type": "execute_result"
    }
   ],
   "source": [
    "test['MasVnrArea'].value_counts()"
   ]
  },
  {
   "cell_type": "code",
   "execution_count": 1422,
   "metadata": {},
   "outputs": [],
   "source": [
    "test['MasVnrArea'].fillna(0.0, inplace = True)"
   ]
  },
  {
   "cell_type": "code",
   "execution_count": 1423,
   "metadata": {},
   "outputs": [
    {
     "data": {
      "text/plain": [
       "0.0       51\n",
       "864.0     50\n",
       "672.0     17\n",
       "912.0     17\n",
       "816.0     15\n",
       "          ..\n",
       "279.0      1\n",
       "661.0      1\n",
       "1555.0     1\n",
       "1765.0     1\n",
       "2458.0     1\n",
       "Name: TotalBsmtSF, Length: 819, dtype: int64"
      ]
     },
     "execution_count": 1423,
     "metadata": {},
     "output_type": "execute_result"
    }
   ],
   "source": [
    "train['TotalBsmtSF'].value_counts()"
   ]
  },
  {
   "cell_type": "code",
   "execution_count": 1424,
   "metadata": {},
   "outputs": [],
   "source": [
    "train['TotalBsmtSF'].fillna(980.0, inplace = True)"
   ]
  },
  {
   "cell_type": "code",
   "execution_count": 1425,
   "metadata": {},
   "outputs": [
    {
     "data": {
      "text/plain": [
       "0.0       559\n",
       "24.0       15\n",
       "16.0        7\n",
       "288.0       6\n",
       "384.0       6\n",
       "         ... \n",
       "506.0       1\n",
       "85.0        1\n",
       "198.0       1\n",
       "1004.0      1\n",
       "808.0       1\n",
       "Name: BsmtFinSF1, Length: 748, dtype: int64"
      ]
     },
     "execution_count": 1425,
     "metadata": {},
     "output_type": "execute_result"
    }
   ],
   "source": [
    "train['BsmtFinSF1'].value_counts()"
   ]
  },
  {
   "cell_type": "code",
   "execution_count": 1426,
   "metadata": {},
   "outputs": [],
   "source": [
    "train['BsmtFinSF1'].fillna(369.0, inplace = True)"
   ]
  },
  {
   "cell_type": "code",
   "execution_count": 1427,
   "metadata": {},
   "outputs": [
    {
     "data": {
      "text/plain": [
       "0.0      1548\n",
       "180.0       4\n",
       "483.0       3\n",
       "147.0       3\n",
       "374.0       3\n",
       "         ... \n",
       "276.0       1\n",
       "620.0       1\n",
       "119.0       1\n",
       "154.0       1\n",
       "441.0       1\n",
       "Name: BsmtFinSF2, Length: 167, dtype: int64"
      ]
     },
     "execution_count": 1427,
     "metadata": {},
     "output_type": "execute_result"
    }
   ],
   "source": [
    "train['BsmtFinSF2'].value_counts()"
   ]
  },
  {
   "cell_type": "code",
   "execution_count": 1428,
   "metadata": {},
   "outputs": [],
   "source": [
    "train['BsmtFinSF2'].fillna(0.0, inplace = True)"
   ]
  },
  {
   "cell_type": "code",
   "execution_count": 1429,
   "metadata": {},
   "outputs": [
    {
     "data": {
      "text/plain": [
       "60.0     171\n",
       "80.0      84\n",
       "70.0      78\n",
       "50.0      73\n",
       "65.0      57\n",
       "        ... \n",
       "313.0      1\n",
       "138.0      1\n",
       "200.0      1\n",
       "28.0       1\n",
       "136.0      1\n",
       "Name: LotFrontage, Length: 115, dtype: int64"
      ]
     },
     "execution_count": 1429,
     "metadata": {},
     "output_type": "execute_result"
    }
   ],
   "source": [
    "train['LotFrontage'].value_counts()"
   ]
  },
  {
   "cell_type": "code",
   "execution_count": 1430,
   "metadata": {},
   "outputs": [],
   "source": [
    "train['LotFrontage'].fillna(68.0, inplace = True)"
   ]
  },
  {
   "cell_type": "code",
   "execution_count": 1431,
   "metadata": {},
   "outputs": [
    {
     "data": {
      "text/plain": [
       "60.0     105\n",
       "70.0      55\n",
       "80.0      53\n",
       "75.0      52\n",
       "50.0      44\n",
       "        ... \n",
       "133.0      1\n",
       "168.0      1\n",
       "140.0      1\n",
       "46.0       1\n",
       "152.0      1\n",
       "Name: LotFrontage, Length: 110, dtype: int64"
      ]
     },
     "execution_count": 1431,
     "metadata": {},
     "output_type": "execute_result"
    }
   ],
   "source": [
    "test['LotFrontage'].value_counts()"
   ]
  },
  {
   "cell_type": "code",
   "execution_count": 1432,
   "metadata": {},
   "outputs": [],
   "source": [
    "test['LotFrontage'].fillna(68.0, inplace = True)"
   ]
  },
  {
   "cell_type": "code",
   "execution_count": 1433,
   "metadata": {},
   "outputs": [
    {
     "data": {
      "text/plain": [
       "0.0    1647\n",
       "1.0      98\n",
       "2.0       3\n",
       "Name: BsmtHalfBath, dtype: int64"
      ]
     },
     "execution_count": 1433,
     "metadata": {},
     "output_type": "execute_result"
    }
   ],
   "source": [
    "train['BsmtHalfBath'].value_counts()"
   ]
  },
  {
   "cell_type": "code",
   "execution_count": 1434,
   "metadata": {},
   "outputs": [
    {
     "data": {
      "text/plain": [
       "0.0    1093\n",
       "1.0      73\n",
       "2.0       1\n",
       "Name: BsmtHalfBath, dtype: int64"
      ]
     },
     "execution_count": 1434,
     "metadata": {},
     "output_type": "execute_result"
    }
   ],
   "source": [
    "test['BsmtHalfBath'].value_counts()"
   ]
  },
  {
   "cell_type": "code",
   "execution_count": 1435,
   "metadata": {},
   "outputs": [],
   "source": [
    "train['BsmtHalfBath'].fillna(0.0, inplace = True)\n",
    "test['BsmtHalfBath'].fillna(0.0, inplace = True)"
   ]
  },
  {
   "cell_type": "markdown",
   "metadata": {},
   "source": [
    "# 필요없는 칼럼 버리기\n",
    "- 결측치가 너무 많은 값\n",
    "- 상관계수가 너무 적은 값\n",
    "- 비정상적으로 빈 값이 많은 값"
   ]
  },
  {
   "cell_type": "code",
   "execution_count": 1436,
   "metadata": {},
   "outputs": [],
   "source": [
    "train=train.drop(columns=['Street','Utilities','Condition2','RoofMatl','Heating','PoolArea','PoolQC','MiscVal','MiscFeature','Alley','Fence'])"
   ]
  },
  {
   "cell_type": "code",
   "execution_count": 1437,
   "metadata": {},
   "outputs": [],
   "source": [
    "test=test.drop(columns=['Street','Utilities','Condition2','RoofMatl','Heating','PoolArea','PoolQC','MiscVal','MiscFeature','Alley','Fence'])"
   ]
  },
  {
   "cell_type": "markdown",
   "metadata": {},
   "source": [
    "# 칼럼 합치기\n",
    "- 공통적인 특성이 있는 컬럼들을 합쳐 새로운 특성을 만듦"
   ]
  },
  {
   "cell_type": "markdown",
   "metadata": {},
   "source": [
    "#### 지하실, 1층, 2층 면적을 합한 총 면적 변수"
   ]
  },
  {
   "cell_type": "code",
   "execution_count": 1438,
   "metadata": {},
   "outputs": [],
   "source": [
    "test['TotalSF']=test['TotalBsmtSF'] + test['1stFlrSF'] + test['2ndFlrSF']\n",
    "test['No2ndFlr']=(test['2ndFlrSF']==0)\n",
    "test['NoBsmt']=(test['TotalBsmtSF']==0)"
   ]
  },
  {
   "cell_type": "code",
   "execution_count": 1439,
   "metadata": {},
   "outputs": [],
   "source": [
    "train['TotalSF']=train['TotalBsmtSF'] + train['1stFlrSF'] + train['2ndFlrSF']\n",
    "train['No2ndFlr']=(train['2ndFlrSF']==0)\n",
    "train['NoBsmt']=(train['TotalBsmtSF']==0)"
   ]
  },
  {
   "cell_type": "markdown",
   "metadata": {},
   "source": [
    "#### 총 욕실수"
   ]
  },
  {
   "cell_type": "code",
   "execution_count": 1440,
   "metadata": {},
   "outputs": [],
   "source": [
    "test['TotalBath']=test['BsmtFullBath'] + test['FullBath'] + (test['BsmtHalfBath']/2) + (test['HalfBath']/2)\n",
    "train['TotalBath']=train['BsmtFullBath'] + train['FullBath'] + (train['BsmtHalfBath']/2) + (train['HalfBath']/2)"
   ]
  },
  {
   "cell_type": "markdown",
   "metadata": {},
   "source": [
    "#### 건축연도, 리모델링연도"
   ]
  },
  {
   "cell_type": "code",
   "execution_count": 1441,
   "metadata": {},
   "outputs": [],
   "source": [
    "test['YrBltAndRemod']=test['YearBuilt']+test['YearRemodAdd']\n",
    "train['YrBltAndRemod']=train['YearBuilt']+train['YearRemodAdd']"
   ]
  },
  {
   "cell_type": "code",
   "execution_count": 1442,
   "metadata": {},
   "outputs": [],
   "source": [
    "# MSSubClass는 숫자이면서 범주형 칼럼이다, 그래서 문자열로 바꾸어 주었다\n",
    "test['MSSubClass']=test['MSSubClass'].astype(str)\n",
    "test['MoSold']=test['MoSold'].astype(str)\n",
    "test['YrSold']=test['YrSold'].astype(str)\n",
    "\n",
    "train['MSSubClass']=train['MSSubClass'].astype(str)\n",
    "train['MoSold']=train['MoSold'].astype(str)\n",
    "train['YrSold']=train['YrSold'].astype(str)"
   ]
  },
  {
   "cell_type": "markdown",
   "metadata": {},
   "source": [
    "#### 지하실 특성"
   ]
  },
  {
   "cell_type": "code",
   "execution_count": 1443,
   "metadata": {},
   "outputs": [],
   "source": [
    "# 비슷한 특성을 지닌 칼럼들을 하나로 합쳐주었다\n",
    "Basement = ['BsmtCond', 'BsmtExposure', 'BsmtFinSF1', 'BsmtFinSF2', 'BsmtFinType1', 'BsmtFinType2', 'BsmtQual', 'BsmtUnfSF', 'TotalBsmtSF']\n",
    "Bsmt=test[Basement]"
   ]
  },
  {
   "cell_type": "code",
   "execution_count": 1444,
   "metadata": {},
   "outputs": [],
   "source": [
    "# 합쳐준 데이터들을 인코딩\n",
    "Bsmt=Bsmt.replace(to_replace='Po', value=1)\n",
    "Bsmt=Bsmt.replace(to_replace='Fa', value=2)\n",
    "Bsmt=Bsmt.replace(to_replace='TA', value=3)\n",
    "Bsmt=Bsmt.replace(to_replace='Gd', value=4)\n",
    "Bsmt=Bsmt.replace(to_replace='Ex', value=5)\n",
    "Bsmt=Bsmt.replace(to_replace='None', value=0)\n",
    "\n",
    "Bsmt=Bsmt.replace(to_replace='No', value=1)\n",
    "Bsmt=Bsmt.replace(to_replace='Mn', value=2)\n",
    "Bsmt=Bsmt.replace(to_replace='Av', value=3)\n",
    "Bsmt=Bsmt.replace(to_replace='Gd', value=4)\n",
    "\n",
    "Bsmt=Bsmt.replace(to_replace='Unf', value=1)\n",
    "Bsmt=Bsmt.replace(to_replace='LwQ', value=2)\n",
    "Bsmt=Bsmt.replace(to_replace='Rec', value=3)\n",
    "Bsmt=Bsmt.replace(to_replace='BLQ', value=4)\n",
    "Bsmt=Bsmt.replace(to_replace='ALQ', value=5)\n",
    "Bsmt=Bsmt.replace(to_replace='GLQ', value=6)"
   ]
  },
  {
   "cell_type": "code",
   "execution_count": 1445,
   "metadata": {},
   "outputs": [],
   "source": [
    "# 몇개의 항목을 곱해 'BsmtScore' 칼럼을 새로 만들어 지하실 상태를 알 수 있게 만들었다\n",
    "Bsmt['BsmtScore']= Bsmt['BsmtQual']  * Bsmt['BsmtCond'] * Bsmt['TotalBsmtSF']\n",
    "test['BsmtScore']=Bsmt['BsmtScore']\n",
    "\n",
    "Bsmt['BsmtFin'] = (Bsmt['BsmtFinSF1'] * Bsmt['BsmtFinType1']) + (Bsmt['BsmtFinSF2'] * Bsmt['BsmtFinType2'])\n",
    "test['BsmtFinScore']=Bsmt['BsmtFin']\n",
    "test['BsmtDNF']=(test['BsmtFinScore']==0)"
   ]
  },
  {
   "cell_type": "markdown",
   "metadata": {},
   "source": [
    "##### train데이터도 같은 작업을 해준다"
   ]
  },
  {
   "cell_type": "code",
   "execution_count": 1446,
   "metadata": {},
   "outputs": [],
   "source": [
    "Basement = ['BsmtCond', 'BsmtExposure', 'BsmtFinSF1', 'BsmtFinSF2', 'BsmtFinType1', 'BsmtFinType2', 'BsmtQual', 'BsmtUnfSF', 'TotalBsmtSF']\n",
    "Bsmt=train[Basement]"
   ]
  },
  {
   "cell_type": "code",
   "execution_count": 1447,
   "metadata": {},
   "outputs": [],
   "source": [
    "Bsmt=Bsmt.replace(to_replace='Po', value=1)\n",
    "Bsmt=Bsmt.replace(to_replace='Fa', value=2)\n",
    "Bsmt=Bsmt.replace(to_replace='TA', value=3)\n",
    "Bsmt=Bsmt.replace(to_replace='Gd', value=4)\n",
    "Bsmt=Bsmt.replace(to_replace='Ex', value=5)\n",
    "Bsmt=Bsmt.replace(to_replace='None', value=0)\n",
    "\n",
    "Bsmt=Bsmt.replace(to_replace='No', value=1)\n",
    "Bsmt=Bsmt.replace(to_replace='Mn', value=2)\n",
    "Bsmt=Bsmt.replace(to_replace='Av', value=3)\n",
    "Bsmt=Bsmt.replace(to_replace='Gd', value=4)\n",
    "\n",
    "Bsmt=Bsmt.replace(to_replace='Unf', value=1)\n",
    "Bsmt=Bsmt.replace(to_replace='LwQ', value=2)\n",
    "Bsmt=Bsmt.replace(to_replace='Rec', value=3)\n",
    "Bsmt=Bsmt.replace(to_replace='BLQ', value=4)\n",
    "Bsmt=Bsmt.replace(to_replace='ALQ', value=5)\n",
    "Bsmt=Bsmt.replace(to_replace='GLQ', value=6)"
   ]
  },
  {
   "cell_type": "code",
   "execution_count": 1448,
   "metadata": {},
   "outputs": [],
   "source": [
    "Bsmt['BsmtScore']= Bsmt['BsmtQual']  * Bsmt['BsmtCond'] * Bsmt['TotalBsmtSF']\n",
    "train['BsmtScore']=Bsmt['BsmtScore']\n",
    "\n",
    "Bsmt['BsmtFin'] = (Bsmt['BsmtFinSF1'] * Bsmt['BsmtFinType1']) + (Bsmt['BsmtFinSF2'] * Bsmt['BsmtFinType2'])\n",
    "train['BsmtFinScore']=Bsmt['BsmtFin']\n",
    "train['BsmtDNF']=(train['BsmtFinScore']==0)"
   ]
  },
  {
   "cell_type": "markdown",
   "metadata": {},
   "source": [
    "#### 토지"
   ]
  },
  {
   "cell_type": "code",
   "execution_count": 1449,
   "metadata": {},
   "outputs": [
    {
     "name": "stderr",
     "output_type": "stream",
     "text": [
      "<ipython-input-1449-2eef8d650a74>:4: SettingWithCopyWarning: \n",
      "A value is trying to be set on a copy of a slice from a DataFrame.\n",
      "Try using .loc[row_indexer,col_indexer] = value instead\n",
      "\n",
      "See the caveats in the documentation: https://pandas.pydata.org/pandas-docs/stable/user_guide/indexing.html#returning-a-view-versus-a-copy\n",
      "  Lot['LotScore'] = np.log((Lot['LotFrontage'] * Lot['LotArea'])+1)\n"
     ]
    }
   ],
   "source": [
    "lot=['LotFrontage', 'LotArea','LotConfig','LotShape']\n",
    "Lot=train[lot]\n",
    "\n",
    "Lot['LotScore'] = np.log((Lot['LotFrontage'] * Lot['LotArea'])+1)\n",
    "\n",
    "train['LotScore']=Lot['LotScore']"
   ]
  },
  {
   "cell_type": "code",
   "execution_count": 1450,
   "metadata": {
    "scrolled": true
   },
   "outputs": [
    {
     "name": "stderr",
     "output_type": "stream",
     "text": [
      "<ipython-input-1450-95d6b9771cbe>:4: SettingWithCopyWarning: \n",
      "A value is trying to be set on a copy of a slice from a DataFrame.\n",
      "Try using .loc[row_indexer,col_indexer] = value instead\n",
      "\n",
      "See the caveats in the documentation: https://pandas.pydata.org/pandas-docs/stable/user_guide/indexing.html#returning-a-view-versus-a-copy\n",
      "  Lot['LotScore'] = np.log((Lot['LotFrontage'] * Lot['LotArea'])+1)\n"
     ]
    }
   ],
   "source": [
    "lot=['LotFrontage', 'LotArea','LotConfig','LotShape']\n",
    "Lot=test[lot]\n",
    "\n",
    "Lot['LotScore'] = np.log((Lot['LotFrontage'] * Lot['LotArea'])+1)\n",
    "\n",
    "test['LotScore']=Lot['LotScore']"
   ]
  },
  {
   "cell_type": "markdown",
   "metadata": {},
   "source": [
    "#### 차고"
   ]
  },
  {
   "cell_type": "code",
   "execution_count": 1451,
   "metadata": {},
   "outputs": [],
   "source": [
    "# 차고 점수도 지하실과 같은 방식으로 만들어 주었다.\n",
    "garage=['GarageArea','GarageCars','GarageCond','GarageFinish','GarageQual','GarageType','GarageYrBlt']\n",
    "Garage=test[garage]\n",
    "test['NoGarage']=(test['GarageArea']==0)"
   ]
  },
  {
   "cell_type": "code",
   "execution_count": 1452,
   "metadata": {},
   "outputs": [],
   "source": [
    "Garage=Garage.replace(to_replace='Po', value=1)\n",
    "Garage=Garage.replace(to_replace='Fa', value=2)\n",
    "Garage=Garage.replace(to_replace='TA', value=3)\n",
    "Garage=Garage.replace(to_replace='Gd', value=4)\n",
    "Garage=Garage.replace(to_replace='Ex', value=5)\n",
    "Garage=Garage.replace(to_replace='None', value=0)\n",
    "\n",
    "Garage=Garage.replace(to_replace='Unf', value=1)\n",
    "Garage=Garage.replace(to_replace='RFn', value=2)\n",
    "Garage=Garage.replace(to_replace='Fin', value=3)\n",
    "\n",
    "Garage=Garage.replace(to_replace='CarPort', value=1)\n",
    "Garage=Garage.replace(to_replace='Basment', value=4)\n",
    "Garage=Garage.replace(to_replace='Detchd', value=2)\n",
    "Garage=Garage.replace(to_replace='2Types', value=3)\n",
    "Garage=Garage.replace(to_replace='Basement', value=5)\n",
    "Garage=Garage.replace(to_replace='Attchd', value=6)\n",
    "Garage=Garage.replace(to_replace='BuiltIn', value=7)\n",
    "Garage['GarageScore']=(Garage['GarageArea']) * (Garage['GarageCars']) * (Garage['GarageFinish']) * (Garage['GarageQual']) * (Garage['GarageType'])\n",
    "test['GarageScore']=Garage['GarageScore']"
   ]
  },
  {
   "cell_type": "code",
   "execution_count": 1453,
   "metadata": {},
   "outputs": [],
   "source": [
    "garage=['GarageArea','GarageCars','GarageCond','GarageFinish','GarageQual','GarageType','GarageYrBlt']\n",
    "Garage=train[garage]\n",
    "train['NoGarage']=(train['GarageArea']==0)"
   ]
  },
  {
   "cell_type": "code",
   "execution_count": 1454,
   "metadata": {},
   "outputs": [],
   "source": [
    "Garage=Garage.replace(to_replace='Po', value=1)\n",
    "Garage=Garage.replace(to_replace='Fa', value=2)\n",
    "Garage=Garage.replace(to_replace='TA', value=3)\n",
    "Garage=Garage.replace(to_replace='Gd', value=4)\n",
    "Garage=Garage.replace(to_replace='Ex', value=5)\n",
    "Garage=Garage.replace(to_replace='None', value=0)\n",
    "\n",
    "Garage=Garage.replace(to_replace='Unf', value=1)\n",
    "Garage=Garage.replace(to_replace='RFn', value=2)\n",
    "Garage=Garage.replace(to_replace='Fin', value=3)\n",
    "\n",
    "Garage=Garage.replace(to_replace='CarPort', value=1)\n",
    "Garage=Garage.replace(to_replace='Basment', value=4)\n",
    "Garage=Garage.replace(to_replace='Detchd', value=2)\n",
    "Garage=Garage.replace(to_replace='2Types', value=3)\n",
    "Garage=Garage.replace(to_replace='Basement', value=5)\n",
    "Garage=Garage.replace(to_replace='Attchd', value=6)\n",
    "Garage=Garage.replace(to_replace='BuiltIn', value=7)\n",
    "Garage['GarageScore']=(Garage['GarageArea']) * (Garage['GarageCars']) * (Garage['GarageFinish']) * (Garage['GarageQual']) * (Garage['GarageType'])\n",
    "train['GarageScore']=Garage['GarageScore']"
   ]
  },
  {
   "cell_type": "code",
   "execution_count": 1455,
   "metadata": {},
   "outputs": [],
   "source": [
    "# 0이 많은 값중 쓸모 있는 값들 0만 분리\n",
    "test['NoLowQual']=(test['LowQualFinSF']==0)\n",
    "test['NoOpenPorch']=(test['OpenPorchSF']==0)\n",
    "test['NoWoodDeck']=(test['WoodDeckSF']==0)"
   ]
  },
  {
   "cell_type": "code",
   "execution_count": 1456,
   "metadata": {},
   "outputs": [],
   "source": [
    "train['NoLowQual']=(train['LowQualFinSF']==0)\n",
    "train['NoOpenPorch']=(train['OpenPorchSF']==0)\n",
    "train['NoWoodDeck']=(train['WoodDeckSF']==0)"
   ]
  },
  {
   "cell_type": "code",
   "execution_count": 1457,
   "metadata": {
    "scrolled": true
   },
   "outputs": [
    {
     "name": "stdout",
     "output_type": "stream",
     "text": [
      "(1749, 83) (1168, 82)\n"
     ]
    }
   ],
   "source": [
    "print(train.shape, test.shape)"
   ]
  },
  {
   "cell_type": "markdown",
   "metadata": {},
   "source": [
    "# 오브젝트형, 수치형 분리"
   ]
  },
  {
   "cell_type": "code",
   "execution_count": 1458,
   "metadata": {},
   "outputs": [],
   "source": [
    "test_obj_df = test.select_dtypes(include='object')\n",
    "train_obj_df = train.select_dtypes(include='object')\n",
    "train_index = train.index\n",
    "test_index = test.index"
   ]
  },
  {
   "cell_type": "markdown",
   "metadata": {},
   "source": [
    "# 원 핫 인코딩\n",
    "- 범주형 데이터를 수치형으로 바꾸기 위해 원 핫 인코딩을 하였다."
   ]
  },
  {
   "cell_type": "code",
   "execution_count": 1460,
   "metadata": {},
   "outputs": [
    {
     "data": {
      "text/html": [
       "<div>\n",
       "<style scoped>\n",
       "    .dataframe tbody tr th:only-of-type {\n",
       "        vertical-align: middle;\n",
       "    }\n",
       "\n",
       "    .dataframe tbody tr th {\n",
       "        vertical-align: top;\n",
       "    }\n",
       "\n",
       "    .dataframe thead th {\n",
       "        text-align: right;\n",
       "    }\n",
       "</style>\n",
       "<table border=\"1\" class=\"dataframe\">\n",
       "  <thead>\n",
       "    <tr style=\"text-align: right;\">\n",
       "      <th></th>\n",
       "      <th>MSSubClass_150</th>\n",
       "      <th>MSSubClass_160</th>\n",
       "      <th>MSSubClass_180</th>\n",
       "      <th>MSSubClass_190</th>\n",
       "      <th>MSSubClass_20</th>\n",
       "      <th>MSSubClass_30</th>\n",
       "      <th>MSSubClass_40</th>\n",
       "      <th>MSSubClass_45</th>\n",
       "      <th>MSSubClass_50</th>\n",
       "      <th>MSSubClass_60</th>\n",
       "      <th>...</th>\n",
       "      <th>SaleType_ConLI</th>\n",
       "      <th>SaleType_ConLw</th>\n",
       "      <th>SaleType_New</th>\n",
       "      <th>SaleType_Oth</th>\n",
       "      <th>SaleType_WD</th>\n",
       "      <th>SaleCondition_AdjLand</th>\n",
       "      <th>SaleCondition_Alloca</th>\n",
       "      <th>SaleCondition_Family</th>\n",
       "      <th>SaleCondition_Normal</th>\n",
       "      <th>SaleCondition_Partial</th>\n",
       "    </tr>\n",
       "    <tr>\n",
       "      <th>Id</th>\n",
       "      <th></th>\n",
       "      <th></th>\n",
       "      <th></th>\n",
       "      <th></th>\n",
       "      <th></th>\n",
       "      <th></th>\n",
       "      <th></th>\n",
       "      <th></th>\n",
       "      <th></th>\n",
       "      <th></th>\n",
       "      <th></th>\n",
       "      <th></th>\n",
       "      <th></th>\n",
       "      <th></th>\n",
       "      <th></th>\n",
       "      <th></th>\n",
       "      <th></th>\n",
       "      <th></th>\n",
       "      <th></th>\n",
       "      <th></th>\n",
       "      <th></th>\n",
       "    </tr>\n",
       "  </thead>\n",
       "  <tbody>\n",
       "    <tr>\n",
       "      <th>1</th>\n",
       "      <td>0</td>\n",
       "      <td>0</td>\n",
       "      <td>0</td>\n",
       "      <td>0</td>\n",
       "      <td>1</td>\n",
       "      <td>0</td>\n",
       "      <td>0</td>\n",
       "      <td>0</td>\n",
       "      <td>0</td>\n",
       "      <td>0</td>\n",
       "      <td>...</td>\n",
       "      <td>0</td>\n",
       "      <td>0</td>\n",
       "      <td>0</td>\n",
       "      <td>0</td>\n",
       "      <td>1</td>\n",
       "      <td>0</td>\n",
       "      <td>0</td>\n",
       "      <td>0</td>\n",
       "      <td>1</td>\n",
       "      <td>0</td>\n",
       "    </tr>\n",
       "    <tr>\n",
       "      <th>2</th>\n",
       "      <td>0</td>\n",
       "      <td>0</td>\n",
       "      <td>0</td>\n",
       "      <td>0</td>\n",
       "      <td>1</td>\n",
       "      <td>0</td>\n",
       "      <td>0</td>\n",
       "      <td>0</td>\n",
       "      <td>0</td>\n",
       "      <td>0</td>\n",
       "      <td>...</td>\n",
       "      <td>0</td>\n",
       "      <td>0</td>\n",
       "      <td>0</td>\n",
       "      <td>0</td>\n",
       "      <td>1</td>\n",
       "      <td>0</td>\n",
       "      <td>0</td>\n",
       "      <td>0</td>\n",
       "      <td>1</td>\n",
       "      <td>0</td>\n",
       "    </tr>\n",
       "    <tr>\n",
       "      <th>3</th>\n",
       "      <td>0</td>\n",
       "      <td>0</td>\n",
       "      <td>0</td>\n",
       "      <td>0</td>\n",
       "      <td>1</td>\n",
       "      <td>0</td>\n",
       "      <td>0</td>\n",
       "      <td>0</td>\n",
       "      <td>0</td>\n",
       "      <td>0</td>\n",
       "      <td>...</td>\n",
       "      <td>0</td>\n",
       "      <td>0</td>\n",
       "      <td>0</td>\n",
       "      <td>0</td>\n",
       "      <td>1</td>\n",
       "      <td>0</td>\n",
       "      <td>0</td>\n",
       "      <td>0</td>\n",
       "      <td>1</td>\n",
       "      <td>0</td>\n",
       "    </tr>\n",
       "    <tr>\n",
       "      <th>4</th>\n",
       "      <td>0</td>\n",
       "      <td>0</td>\n",
       "      <td>0</td>\n",
       "      <td>0</td>\n",
       "      <td>0</td>\n",
       "      <td>0</td>\n",
       "      <td>0</td>\n",
       "      <td>0</td>\n",
       "      <td>0</td>\n",
       "      <td>1</td>\n",
       "      <td>...</td>\n",
       "      <td>0</td>\n",
       "      <td>0</td>\n",
       "      <td>0</td>\n",
       "      <td>0</td>\n",
       "      <td>1</td>\n",
       "      <td>0</td>\n",
       "      <td>0</td>\n",
       "      <td>0</td>\n",
       "      <td>1</td>\n",
       "      <td>0</td>\n",
       "    </tr>\n",
       "    <tr>\n",
       "      <th>5</th>\n",
       "      <td>0</td>\n",
       "      <td>0</td>\n",
       "      <td>0</td>\n",
       "      <td>0</td>\n",
       "      <td>1</td>\n",
       "      <td>0</td>\n",
       "      <td>0</td>\n",
       "      <td>0</td>\n",
       "      <td>0</td>\n",
       "      <td>0</td>\n",
       "      <td>...</td>\n",
       "      <td>0</td>\n",
       "      <td>0</td>\n",
       "      <td>0</td>\n",
       "      <td>0</td>\n",
       "      <td>1</td>\n",
       "      <td>0</td>\n",
       "      <td>0</td>\n",
       "      <td>0</td>\n",
       "      <td>1</td>\n",
       "      <td>0</td>\n",
       "    </tr>\n",
       "  </tbody>\n",
       "</table>\n",
       "<p>5 rows × 208 columns</p>\n",
       "</div>"
      ],
      "text/plain": [
       "    MSSubClass_150  MSSubClass_160  MSSubClass_180  MSSubClass_190  \\\n",
       "Id                                                                   \n",
       "1                0               0               0               0   \n",
       "2                0               0               0               0   \n",
       "3                0               0               0               0   \n",
       "4                0               0               0               0   \n",
       "5                0               0               0               0   \n",
       "\n",
       "    MSSubClass_20  MSSubClass_30  MSSubClass_40  MSSubClass_45  MSSubClass_50  \\\n",
       "Id                                                                              \n",
       "1               1              0              0              0              0   \n",
       "2               1              0              0              0              0   \n",
       "3               1              0              0              0              0   \n",
       "4               0              0              0              0              0   \n",
       "5               1              0              0              0              0   \n",
       "\n",
       "    MSSubClass_60  ...  SaleType_ConLI  SaleType_ConLw  SaleType_New  \\\n",
       "Id                 ...                                                 \n",
       "1               0  ...               0               0             0   \n",
       "2               0  ...               0               0             0   \n",
       "3               0  ...               0               0             0   \n",
       "4               1  ...               0               0             0   \n",
       "5               0  ...               0               0             0   \n",
       "\n",
       "    SaleType_Oth  SaleType_WD  SaleCondition_AdjLand  SaleCondition_Alloca  \\\n",
       "Id                                                                           \n",
       "1              0            1                      0                     0   \n",
       "2              0            1                      0                     0   \n",
       "3              0            1                      0                     0   \n",
       "4              0            1                      0                     0   \n",
       "5              0            1                      0                     0   \n",
       "\n",
       "    SaleCondition_Family  SaleCondition_Normal  SaleCondition_Partial  \n",
       "Id                                                                     \n",
       "1                      0                     1                      0  \n",
       "2                      0                     1                      0  \n",
       "3                      0                     1                      0  \n",
       "4                      0                     1                      0  \n",
       "5                      0                     1                      0  \n",
       "\n",
       "[5 rows x 208 columns]"
      ]
     },
     "execution_count": 1460,
     "metadata": {},
     "output_type": "execute_result"
    }
   ],
   "source": [
    "train_dummy_df = pd.get_dummies(train_obj_df, drop_first=True)\n",
    "train_dummy_df.index = train.index\n",
    "train_dummy_df.head()"
   ]
  },
  {
   "cell_type": "code",
   "execution_count": 1461,
   "metadata": {
    "scrolled": false
   },
   "outputs": [
    {
     "data": {
      "text/html": [
       "<div>\n",
       "<style scoped>\n",
       "    .dataframe tbody tr th:only-of-type {\n",
       "        vertical-align: middle;\n",
       "    }\n",
       "\n",
       "    .dataframe tbody tr th {\n",
       "        vertical-align: top;\n",
       "    }\n",
       "\n",
       "    .dataframe thead th {\n",
       "        text-align: right;\n",
       "    }\n",
       "</style>\n",
       "<table border=\"1\" class=\"dataframe\">\n",
       "  <thead>\n",
       "    <tr style=\"text-align: right;\">\n",
       "      <th></th>\n",
       "      <th>MSSubClass_160</th>\n",
       "      <th>MSSubClass_180</th>\n",
       "      <th>MSSubClass_190</th>\n",
       "      <th>MSSubClass_20</th>\n",
       "      <th>MSSubClass_30</th>\n",
       "      <th>MSSubClass_40</th>\n",
       "      <th>MSSubClass_45</th>\n",
       "      <th>MSSubClass_50</th>\n",
       "      <th>MSSubClass_60</th>\n",
       "      <th>MSSubClass_70</th>\n",
       "      <th>...</th>\n",
       "      <th>SaleType_ConLI</th>\n",
       "      <th>SaleType_ConLw</th>\n",
       "      <th>SaleType_New</th>\n",
       "      <th>SaleType_Oth</th>\n",
       "      <th>SaleType_WD</th>\n",
       "      <th>SaleCondition_AdjLand</th>\n",
       "      <th>SaleCondition_Alloca</th>\n",
       "      <th>SaleCondition_Family</th>\n",
       "      <th>SaleCondition_Normal</th>\n",
       "      <th>SaleCondition_Partial</th>\n",
       "    </tr>\n",
       "    <tr>\n",
       "      <th>Id</th>\n",
       "      <th></th>\n",
       "      <th></th>\n",
       "      <th></th>\n",
       "      <th></th>\n",
       "      <th></th>\n",
       "      <th></th>\n",
       "      <th></th>\n",
       "      <th></th>\n",
       "      <th></th>\n",
       "      <th></th>\n",
       "      <th></th>\n",
       "      <th></th>\n",
       "      <th></th>\n",
       "      <th></th>\n",
       "      <th></th>\n",
       "      <th></th>\n",
       "      <th></th>\n",
       "      <th></th>\n",
       "      <th></th>\n",
       "      <th></th>\n",
       "      <th></th>\n",
       "    </tr>\n",
       "  </thead>\n",
       "  <tbody>\n",
       "    <tr>\n",
       "      <th>1752</th>\n",
       "      <td>0</td>\n",
       "      <td>0</td>\n",
       "      <td>0</td>\n",
       "      <td>1</td>\n",
       "      <td>0</td>\n",
       "      <td>0</td>\n",
       "      <td>0</td>\n",
       "      <td>0</td>\n",
       "      <td>0</td>\n",
       "      <td>0</td>\n",
       "      <td>...</td>\n",
       "      <td>0</td>\n",
       "      <td>0</td>\n",
       "      <td>0</td>\n",
       "      <td>0</td>\n",
       "      <td>1</td>\n",
       "      <td>0</td>\n",
       "      <td>0</td>\n",
       "      <td>0</td>\n",
       "      <td>1</td>\n",
       "      <td>0</td>\n",
       "    </tr>\n",
       "    <tr>\n",
       "      <th>1753</th>\n",
       "      <td>0</td>\n",
       "      <td>0</td>\n",
       "      <td>0</td>\n",
       "      <td>0</td>\n",
       "      <td>0</td>\n",
       "      <td>0</td>\n",
       "      <td>0</td>\n",
       "      <td>1</td>\n",
       "      <td>0</td>\n",
       "      <td>0</td>\n",
       "      <td>...</td>\n",
       "      <td>0</td>\n",
       "      <td>0</td>\n",
       "      <td>0</td>\n",
       "      <td>0</td>\n",
       "      <td>1</td>\n",
       "      <td>0</td>\n",
       "      <td>0</td>\n",
       "      <td>0</td>\n",
       "      <td>1</td>\n",
       "      <td>0</td>\n",
       "    </tr>\n",
       "    <tr>\n",
       "      <th>1754</th>\n",
       "      <td>0</td>\n",
       "      <td>0</td>\n",
       "      <td>0</td>\n",
       "      <td>0</td>\n",
       "      <td>0</td>\n",
       "      <td>0</td>\n",
       "      <td>0</td>\n",
       "      <td>0</td>\n",
       "      <td>1</td>\n",
       "      <td>0</td>\n",
       "      <td>...</td>\n",
       "      <td>0</td>\n",
       "      <td>0</td>\n",
       "      <td>0</td>\n",
       "      <td>0</td>\n",
       "      <td>1</td>\n",
       "      <td>0</td>\n",
       "      <td>0</td>\n",
       "      <td>0</td>\n",
       "      <td>1</td>\n",
       "      <td>0</td>\n",
       "    </tr>\n",
       "    <tr>\n",
       "      <th>1755</th>\n",
       "      <td>0</td>\n",
       "      <td>0</td>\n",
       "      <td>0</td>\n",
       "      <td>0</td>\n",
       "      <td>0</td>\n",
       "      <td>0</td>\n",
       "      <td>0</td>\n",
       "      <td>0</td>\n",
       "      <td>1</td>\n",
       "      <td>0</td>\n",
       "      <td>...</td>\n",
       "      <td>0</td>\n",
       "      <td>0</td>\n",
       "      <td>0</td>\n",
       "      <td>0</td>\n",
       "      <td>1</td>\n",
       "      <td>0</td>\n",
       "      <td>0</td>\n",
       "      <td>0</td>\n",
       "      <td>1</td>\n",
       "      <td>0</td>\n",
       "    </tr>\n",
       "    <tr>\n",
       "      <th>1756</th>\n",
       "      <td>0</td>\n",
       "      <td>0</td>\n",
       "      <td>0</td>\n",
       "      <td>0</td>\n",
       "      <td>0</td>\n",
       "      <td>0</td>\n",
       "      <td>0</td>\n",
       "      <td>1</td>\n",
       "      <td>0</td>\n",
       "      <td>0</td>\n",
       "      <td>...</td>\n",
       "      <td>0</td>\n",
       "      <td>0</td>\n",
       "      <td>0</td>\n",
       "      <td>0</td>\n",
       "      <td>1</td>\n",
       "      <td>0</td>\n",
       "      <td>0</td>\n",
       "      <td>0</td>\n",
       "      <td>1</td>\n",
       "      <td>0</td>\n",
       "    </tr>\n",
       "  </tbody>\n",
       "</table>\n",
       "<p>5 rows × 199 columns</p>\n",
       "</div>"
      ],
      "text/plain": [
       "      MSSubClass_160  MSSubClass_180  MSSubClass_190  MSSubClass_20  \\\n",
       "Id                                                                    \n",
       "1752               0               0               0              1   \n",
       "1753               0               0               0              0   \n",
       "1754               0               0               0              0   \n",
       "1755               0               0               0              0   \n",
       "1756               0               0               0              0   \n",
       "\n",
       "      MSSubClass_30  MSSubClass_40  MSSubClass_45  MSSubClass_50  \\\n",
       "Id                                                                 \n",
       "1752              0              0              0              0   \n",
       "1753              0              0              0              1   \n",
       "1754              0              0              0              0   \n",
       "1755              0              0              0              0   \n",
       "1756              0              0              0              1   \n",
       "\n",
       "      MSSubClass_60  MSSubClass_70  ...  SaleType_ConLI  SaleType_ConLw  \\\n",
       "Id                                  ...                                   \n",
       "1752              0              0  ...               0               0   \n",
       "1753              0              0  ...               0               0   \n",
       "1754              1              0  ...               0               0   \n",
       "1755              1              0  ...               0               0   \n",
       "1756              0              0  ...               0               0   \n",
       "\n",
       "      SaleType_New  SaleType_Oth  SaleType_WD  SaleCondition_AdjLand  \\\n",
       "Id                                                                     \n",
       "1752             0             0            1                      0   \n",
       "1753             0             0            1                      0   \n",
       "1754             0             0            1                      0   \n",
       "1755             0             0            1                      0   \n",
       "1756             0             0            1                      0   \n",
       "\n",
       "      SaleCondition_Alloca  SaleCondition_Family  SaleCondition_Normal  \\\n",
       "Id                                                                       \n",
       "1752                     0                     0                     1   \n",
       "1753                     0                     0                     1   \n",
       "1754                     0                     0                     1   \n",
       "1755                     0                     0                     1   \n",
       "1756                     0                     0                     1   \n",
       "\n",
       "      SaleCondition_Partial  \n",
       "Id                           \n",
       "1752                      0  \n",
       "1753                      0  \n",
       "1754                      0  \n",
       "1755                      0  \n",
       "1756                      0  \n",
       "\n",
       "[5 rows x 199 columns]"
      ]
     },
     "execution_count": 1461,
     "metadata": {},
     "output_type": "execute_result"
    }
   ],
   "source": [
    "test_dummy_df = pd.get_dummies(test_obj_df, drop_first=True)\n",
    "test_dummy_df.index = test.index\n",
    "test_dummy_df.head()"
   ]
  },
  {
   "cell_type": "code",
   "execution_count": 1462,
   "metadata": {},
   "outputs": [],
   "source": [
    "test_data_df = test.select_dtypes(exclude='object')\n",
    "train_data_df = train.select_dtypes(exclude='object')\n",
    "train_index = train.index\n",
    "test_index = test.index"
   ]
  },
  {
   "cell_type": "markdown",
   "metadata": {},
   "source": [
    "#### 칼럼의 갯수가 다르길래 train에서 test를 빼보고, 반대로도 해보았다 이때 실수 한 것을 깨달았다..위에서 인코딩을 했었는데 한번 더 하려고 하니 당연히 칼럼의 갯수도 달라지고 꼬였던 것이었다. 그래서 다시 아래처럼 인코딩 한 것을 삭제하고 원 핫 인코딩을 하려고 했지만 문법은 틀리지 않았는데 실행하면 오류가 났다\n",
    "#### train_obj_df=train_obj_df.drop(['NoBsmt','TotalBath','MSSubClass','MoSold','YrSold','BsmtDNF','LotScore','NoGarage','GarageScore', axis = 1])\n",
    "#### 그래서 급한대로 결측치를 확인하고(다행히 대부분 0이었다) 비어있는 칼럼들을 서로 만들어서 채워줬다.\n"
   ]
  },
  {
   "cell_type": "code",
   "execution_count": 1463,
   "metadata": {},
   "outputs": [],
   "source": [
    "train = pd.concat([train_dummy_df,train_data_df], axis=1)"
   ]
  },
  {
   "cell_type": "code",
   "execution_count": 1464,
   "metadata": {},
   "outputs": [],
   "source": [
    "test = pd.concat([test_dummy_df,test_data_df], axis=1)"
   ]
  },
  {
   "cell_type": "code",
   "execution_count": 1465,
   "metadata": {},
   "outputs": [
    {
     "data": {
      "text/plain": [
       "{'Electrical_Mix',\n",
       " 'ExterCond_Po',\n",
       " 'Exterior1st_CBlock',\n",
       " 'Exterior1st_Stone',\n",
       " 'Exterior2nd_CBlock',\n",
       " 'Exterior2nd_Other',\n",
       " 'Functional_Sev',\n",
       " 'GarageCond_Fa',\n",
       " 'GarageQual_Fa',\n",
       " 'MSSubClass_150',\n",
       " 'SalePrice'}"
      ]
     },
     "execution_count": 1465,
     "metadata": {},
     "output_type": "execute_result"
    }
   ],
   "source": [
    "set(train.columns) - set(test.columns)"
   ]
  },
  {
   "cell_type": "code",
   "execution_count": 1466,
   "metadata": {},
   "outputs": [
    {
     "data": {
      "text/plain": [
       "0    1748\n",
       "1       1\n",
       "Name: MSSubClass_150, dtype: int64"
      ]
     },
     "execution_count": 1466,
     "metadata": {},
     "output_type": "execute_result"
    }
   ],
   "source": [
    "train_dummy_df['MSSubClass_150'].value_counts()"
   ]
  },
  {
   "cell_type": "code",
   "execution_count": 1467,
   "metadata": {},
   "outputs": [
    {
     "data": {
      "text/plain": [
       "0    1746\n",
       "1       3\n",
       "Name: ExterCond_Po, dtype: int64"
      ]
     },
     "execution_count": 1467,
     "metadata": {},
     "output_type": "execute_result"
    }
   ],
   "source": [
    "train_dummy_df['ExterCond_Po'].value_counts()"
   ]
  },
  {
   "cell_type": "code",
   "execution_count": 1468,
   "metadata": {},
   "outputs": [
    {
     "data": {
      "text/plain": [
       "0    1748\n",
       "1       1\n",
       "Name: Electrical_Mix, dtype: int64"
      ]
     },
     "execution_count": 1468,
     "metadata": {},
     "output_type": "execute_result"
    }
   ],
   "source": [
    "train_dummy_df['Electrical_Mix'].value_counts()"
   ]
  },
  {
   "cell_type": "code",
   "execution_count": 1469,
   "metadata": {},
   "outputs": [
    {
     "data": {
      "text/plain": [
       "0    1747\n",
       "1       2\n",
       "Name: Exterior1st_CBlock, dtype: int64"
      ]
     },
     "execution_count": 1469,
     "metadata": {},
     "output_type": "execute_result"
    }
   ],
   "source": [
    "train_dummy_df['Exterior1st_CBlock'].value_counts()"
   ]
  },
  {
   "cell_type": "code",
   "execution_count": 1470,
   "metadata": {},
   "outputs": [
    {
     "data": {
      "text/plain": [
       "0    1747\n",
       "1       2\n",
       "Name: Exterior1st_Stone, dtype: int64"
      ]
     },
     "execution_count": 1470,
     "metadata": {},
     "output_type": "execute_result"
    }
   ],
   "source": [
    "train_dummy_df['Exterior1st_Stone'].value_counts()"
   ]
  },
  {
   "cell_type": "code",
   "execution_count": 1471,
   "metadata": {},
   "outputs": [
    {
     "data": {
      "text/plain": [
       "0    1746\n",
       "1       3\n",
       "Name: Exterior2nd_CBlock, dtype: int64"
      ]
     },
     "execution_count": 1471,
     "metadata": {},
     "output_type": "execute_result"
    }
   ],
   "source": [
    "train_dummy_df['Exterior2nd_CBlock'].value_counts()"
   ]
  },
  {
   "cell_type": "code",
   "execution_count": 1472,
   "metadata": {},
   "outputs": [
    {
     "data": {
      "text/plain": [
       "0    1748\n",
       "1       1\n",
       "Name: Exterior2nd_Other, dtype: int64"
      ]
     },
     "execution_count": 1472,
     "metadata": {},
     "output_type": "execute_result"
    }
   ],
   "source": [
    "train_dummy_df['Exterior2nd_Other'].value_counts()"
   ]
  },
  {
   "cell_type": "code",
   "execution_count": 1473,
   "metadata": {},
   "outputs": [
    {
     "data": {
      "text/plain": [
       "0    1747\n",
       "1       2\n",
       "Name: Functional_Sev, dtype: int64"
      ]
     },
     "execution_count": 1473,
     "metadata": {},
     "output_type": "execute_result"
    }
   ],
   "source": [
    "train_dummy_df['Functional_Sev'].value_counts()"
   ]
  },
  {
   "cell_type": "code",
   "execution_count": 1474,
   "metadata": {},
   "outputs": [
    {
     "data": {
      "text/plain": [
       "0    1701\n",
       "1      48\n",
       "Name: GarageCond_Fa, dtype: int64"
      ]
     },
     "execution_count": 1474,
     "metadata": {},
     "output_type": "execute_result"
    }
   ],
   "source": [
    "train_dummy_df['GarageCond_Fa'].value_counts()"
   ]
  },
  {
   "cell_type": "code",
   "execution_count": 1475,
   "metadata": {},
   "outputs": [
    {
     "data": {
      "text/plain": [
       "0    1677\n",
       "1      72\n",
       "Name: GarageQual_Fa, dtype: int64"
      ]
     },
     "execution_count": 1475,
     "metadata": {},
     "output_type": "execute_result"
    }
   ],
   "source": [
    "train_dummy_df['GarageQual_Fa'].value_counts()"
   ]
  },
  {
   "cell_type": "code",
   "execution_count": 1476,
   "metadata": {},
   "outputs": [
    {
     "data": {
      "text/plain": [
       "{'Exterior1st_ImStucc'}"
      ]
     },
     "execution_count": 1476,
     "metadata": {},
     "output_type": "execute_result"
    }
   ],
   "source": [
    "set(test.columns) - set(train.columns)"
   ]
  },
  {
   "cell_type": "code",
   "execution_count": 1477,
   "metadata": {},
   "outputs": [],
   "source": [
    "test['Electrical_Mix'] = 0\n",
    "test['ExterCond_Po'] = 0\n",
    "test['Exterior1st_CBlock'] = 0\n",
    "test['Exterior1st_Stone'] = 0\n",
    "test['Exterior2nd_CBlock'] = 0\n",
    "test['Exterior2nd_Other'] = 0\n",
    "test['Functional_Sev'] = 0\n",
    "test['GarageCond_Fa'] = 0\n",
    "test['GarageQual_Fa'] = 0\n",
    "test['MSSubClass_150'] = 0"
   ]
  },
  {
   "cell_type": "code",
   "execution_count": 1478,
   "metadata": {},
   "outputs": [],
   "source": [
    "train['Exterior1st_ImStucc'] = 0"
   ]
  },
  {
   "cell_type": "code",
   "execution_count": 1479,
   "metadata": {},
   "outputs": [],
   "source": [
    "train.sort_index(axis=1, inplace=True)\n",
    "test.sort_index(axis=1,inplace=True)"
   ]
  },
  {
   "cell_type": "code",
   "execution_count": 1480,
   "metadata": {},
   "outputs": [],
   "source": [
    "X = train.drop(['SalePrice'], axis = 1)\n",
    "y = train[\"SalePrice\"]\n",
    "# 데이터가 왼쪽으로 치우친 Left Skewed이기 때문에 로그를 취하여 비대칭도를 줄였다\n",
    "y = np.log(y+1)"
   ]
  },
  {
   "cell_type": "code",
   "execution_count": 1481,
   "metadata": {},
   "outputs": [],
   "source": [
    "submission = pd.DataFrame()"
   ]
  },
  {
   "cell_type": "markdown",
   "metadata": {},
   "source": [
    "#### 5~6 모델 선택 및 학습, 평가\n",
    "- GradientBoosting\n",
    "- XGBRegressor\n",
    "- ElasticNet, Lasso\n",
    "- 3개 모델 합쳐서 계산\n"
   ]
  },
  {
   "cell_type": "markdown",
   "metadata": {},
   "source": [
    "#### 단일모델로도 돌려보았었는데 결과가 좋지 않았다, 그래서 검색 후 여러 모델의 예측값의 평균값이 더 정확하다하여 돌려보았다. 참고로 회귀가 아닌 분류의 경우 Regressor대신 Classifier으로 import해야 한다."
   ]
  },
  {
   "cell_type": "code",
   "execution_count": 1482,
   "metadata": {},
   "outputs": [],
   "source": [
    "from sklearn.metrics import mean_squared_error\n",
    "from sklearn.linear_model import ElasticNet, Lasso\n",
    "from sklearn.ensemble import GradientBoostingRegressor\n",
    "from sklearn.pipeline import make_pipeline\n",
    "from sklearn.preprocessing import RobustScaler\n",
    "from xgboost import XGBRegressor\n",
    "import time\n",
    "import optuna\n",
    "from sklearn.model_selection import cross_val_score\n",
    "from sklearn.metrics import mean_squared_error\n",
    "model_ENet = make_pipeline(RobustScaler(), ElasticNet(alpha=0.00052, l1_ratio=0.70654, random_state=18))\n",
    "\n",
    "model_GBoost = GradientBoostingRegressor(n_estimators=3000, learning_rate=0.05, max_depth=4, max_features='sqrt', min_samples_leaf=15, \n",
    "                                         min_samples_split=10, loss='huber', random_state=18)\n",
    "\n",
    "model_XGB=XGBRegressor(colsample_bylevel=0.9229733609038979,colsample_bynode=0.21481791874780318,colsample_bytree=0.607964318297635, \n",
    "                       gamma=0.8989889254961725, learning_rate=0.009192310189734834, max_depth=3, n_estimators=3602, \n",
    "                       reg_alpha=3.185674564163364e-12,reg_lambda=4.95553539265423e-13, seed=18, subsample=0.8381904293270576,\n",
    "                       tree_method='exact',verbosity=0)"
   ]
  },
  {
   "cell_type": "code",
   "execution_count": 1483,
   "metadata": {},
   "outputs": [],
   "source": [
    "model_ENet.fit(X, y)\n",
    "ENet_predictions=model_ENet.predict(test)\n",
    "train_ENet=model_ENet.predict(X)\n",
    "\n",
    "model_XGB = XGBRegressor()\n",
    "model_XGB.fit(X, y)\n",
    "XGB_predictions=model_XGB.predict(test)\n",
    "train_XGB=model_XGB.predict(X)\n",
    "\n",
    "model_GBoost.fit(X, y)\n",
    "GBoost_predictions=model_GBoost.predict(test)\n",
    "train_GBoost=model_GBoost.predict(X)"
   ]
  },
  {
   "cell_type": "code",
   "execution_count": 1484,
   "metadata": {},
   "outputs": [
    {
     "name": "stdout",
     "output_type": "stream",
     "text": [
      "Scoring with train data : 0.039592836371444826\n"
     ]
    }
   ],
   "source": [
    "log_train_predictions = (train_ENet + train_XGB + train_GBoost)/3\n",
    "RMSE = mean_squared_error(y,log_train_predictions)**0.5\n",
    "train_score=RMSE\n",
    "print(f\"Scoring with train data : {train_score}\")"
   ]
  },
  {
   "cell_type": "code",
   "execution_count": 1485,
   "metadata": {},
   "outputs": [],
   "source": [
    "log_predictions=(ENet_predictions + XGB_predictions + GBoost_predictions) / 3\n",
    "predictions=np.exp(log_predictions)-1"
   ]
  },
  {
   "cell_type": "code",
   "execution_count": null,
   "metadata": {},
   "outputs": [],
   "source": [
    "# 제출 파일 만들기\n",
    "submission['SalePrice']=predictions\n",
    "submission['Id']=test.index\n",
    "submission.to_csv('Result.csv', index=False)"
   ]
  },
  {
   "cell_type": "markdown",
   "metadata": {},
   "source": [
    "#### 추가적으로 catboost가 점수가 잘 나올 수도 있다하여 이 모델도 돌려보았다"
   ]
  },
  {
   "cell_type": "markdown",
   "metadata": {},
   "source": [
    "# catboost"
   ]
  },
  {
   "cell_type": "code",
   "execution_count": null,
   "metadata": {
    "scrolled": true
   },
   "outputs": [],
   "source": [
    "from catboost import CatBoostRegressor, Pool"
   ]
  },
  {
   "cell_type": "code",
   "execution_count": null,
   "metadata": {},
   "outputs": [],
   "source": [
    "model_CB = CatBoostRegressor()\n",
    "model_CB.fit(X,y)\n",
    "CB_predictions = model_CB.predict(test)\n",
    "train_Cb = model_CB.predict(X)"
   ]
  },
  {
   "cell_type": "code",
   "execution_count": null,
   "metadata": {},
   "outputs": [],
   "source": [
    "log_train_predictions = train_Cb\n",
    "RMSE = mean_squared_error(y,log_train_predictions)**0.5\n",
    "train_score=RMSE\n",
    "print(f\"Scoring with train data : {train_score}\")"
   ]
  },
  {
   "cell_type": "code",
   "execution_count": null,
   "metadata": {},
   "outputs": [],
   "source": [
    "log_predictions=CB_predictions\n",
    "predictions=np.exp(log_predictions)-1"
   ]
  },
  {
   "cell_type": "code",
   "execution_count": null,
   "metadata": {},
   "outputs": [],
   "source": [
    "submission['SalePrice']=predictions\n",
    "submission['Id']=test.index\n",
    "submission.to_csv('CB.csv', index=False)"
   ]
  },
  {
   "cell_type": "markdown",
   "metadata": {},
   "source": [
    "# Install 필요할 시 사용\n",
    "- !pip install optuna\n",
    "- !pip install catboost\n",
    "- !pip install lightgbm"
   ]
  },
  {
   "cell_type": "markdown",
   "metadata": {},
   "source": [
    "# 프로젝트 하면서 데이터 분석한 내용"
   ]
  },
  {
   "cell_type": "code",
   "execution_count": null,
   "metadata": {},
   "outputs": [],
   "source": [
    "- 상관계수 0.5 기준\n",
    "OverallQual      0.803108\n",
    "YearBuilt        0.551999\n",
    "YearRemodAdd     0.539269\n",
    "* MasVnrArea       0.503970 /1735/1161\n",
    "* TotalBsmtSF      0.647987 /1750\n",
    "1stFlrSF         0.637123\n",
    "GrLivArea        0.709685\n",
    "FullBath         0.553401\n",
    "* GarageYrBlt      0.538430 /1651\n",
    "* GarageCars       0.661647 /1750\n",
    "* GarageArea       0.642899   /1750\n",
    "==============================================================================================\n",
    "- 상관계수 0.3 기준\n",
    "OverallQual      0.803108\n",
    "YearBuilt        0.551999\n",
    "YearRemodAdd     0.539269\n",
    "* MasVnrArea       0.503970 /1735/1161\n",
    "* TotalBsmtSF      0.647987 /1750\n",
    "1stFlrSF         0.637123\n",
    "GrLivArea        0.709685\n",
    "FullBath         0.553401\n",
    "* GarageYrBlt      0.538430 /1651\n",
    "* GarageCars       0.661647 /1750\n",
    "* GarageArea       0.642899   /1750\n",
    "\n",
    "*BsmtFinSF1       0.420841 1750/1751 float64\n",
    "*LotFrontage      0.358583 1450/1751 float64\n",
    "TotRmsAbvGrd     0.498221\n",
    "Fireplaces       0.485241\n",
    "WoodDeckSF       0.324476\n",
    "OpenPorchSF      0.307070\n",
    "===================================================\n",
    "- 상관계수 0.2 기준\n",
    "OverallQual      0.803108\n",
    "YearBuilt        0.551999\n",
    "YearRemodAdd     0.539269\n",
    "* MasVnrArea       0.503970 /1735/1161\n",
    "* TotalBsmtSF      0.647987 /1750\n",
    "1stFlrSF         0.637123\n",
    "GrLivArea        0.709685\n",
    "FullBath         0.553401\n",
    "* GarageYrBlt      0.538430 /1651\n",
    "* GarageCars       0.661647 /1750\n",
    "* GarageArea       0.642899   /1750\n",
    "\n",
    "*BsmtFinSF1       0.420841 1750/1751 float64\n",
    "*LotFrontage      0.358583 1450/1751 float64\n",
    "TotRmsAbvGrd     0.498221\n",
    "Fireplaces       0.485241\n",
    "WoodDeckSF       0.324476\n",
    "OpenPorchSF      0.307070\n",
    "\n",
    "LotArea          0.264751\n",
    "* BsmtUnfSF        0.217641 1750/1751  float64\n",
    "2ndFlrSF         0.262407\n",
    "* BsmtFullBath     0.264883 1750/1751  float64\n",
    "HalfBath         0.288713\n",
    "==============================================================================================\n",
    "결측치 없는 컬럼\n",
    " 3   LotArea        1751 non-null   int64  \n",
    " 4   Street         1751 non-null   object \n",
    " 6   LotShape       1751 non-null   object \n",
    " 7   LandContour    1751 non-null   object \n",
    " 9   LotConfig      1751 non-null   object \n",
    " 10  LandSlope      1751 non-null   object \n",
    " 11  Neighborhood   1751 non-null   object \n",
    " 12  Condition1     1751 non-null   object \n",
    " 13  Condition2     1751 non-null   object \n",
    " 14  BldgType       1751 non-null   object \n",
    " 15  HouseStyle     1751 non-null   object \n",
    " 16  OverallQual    1751 non-null   int64  \n",
    " 17  OverallCond    1751 non-null   int64  \n",
    " 18  YearBuilt      1751 non-null   int64  \n",
    " 19  YearRemodAdd   1751 non-null   int64  \n",
    " 20  RoofStyle      1751 non-null   object \n",
    " 21  RoofMatl       1751 non-null   object \n",
    " 26  ExterQual      1751 non-null   object \n",
    " 27  ExterCond      1751 non-null   object \n",
    " 28  Foundation     1751 non-null   object \n",
    " 38  Heating        1751 non-null   object \n",
    " 39  HeatingQC      1751 non-null   object \n",
    " 40  CentralAir     1751 non-null   object \n",
    " 42  1stFlrSF       1751 non-null   int64  \n",
    " 43  2ndFlrSF       1751 non-null   int64  \n",
    " 44  LowQualFinSF   1751 non-null   int64  \n",
    " 45  GrLivArea      1751 non-null   int64  \n",
    " 48  FullBath       1751 non-null   int64  \n",
    " 49  HalfBath       1751 non-null   int64  \n",
    " 50  BedroomAbvGr   1751 non-null   int64  \n",
    " 51  KitchenAbvGr   1751 non-null   int64  \n",
    " 53  TotRmsAbvGrd   1751 non-null   int64  \n",
    " 55  Fireplaces     1751 non-null   int64  \n",
    " 64  PavedDrive     1751 non-null   object \n",
    " 65  WoodDeckSF     1751 non-null   int64  \n",
    " 66  OpenPorchSF    1751 non-null   int64  \n",
    " 67  EnclosedPorch  1751 non-null   int64  \n",
    " 68  3SsnPorch      1751 non-null   int64  \n",
    " 69  ScreenPorch    1751 non-null   int64  \n",
    " 70  PoolArea       1751 non-null   int64  \n",
    " 74  MiscVal        1751 non-null   int64  \n",
    " 75  MoSold         1751 non-null   int64  \n",
    " 76  YrSold         1751 non-null   int64  \n",
    " 78  SaleCondition  1751 non-null   object \n",
    "==============================================================================================\n",
    "SalePrice- 부동산의 판매 가격 (달러)입니다. 이것이 예측하려는 목표 변수입니다.\n",
    "MSSubClass : 건물 등급\n",
    "MSZoning : 일반 구역 분류\n",
    "LotFrontage : 부동산에 연결된 거리의 선형 피트\n",
    "LotArea : 평방 피트 단위의 부지 크기\n",
    "거리 : 도로 접근 유형\n",
    "골목 : 골목 접근 유형\n",
    "LotShape : 속성의 일반적인 모양\n",
    "LandContour : 부동산의 평탄도\n",
    "유틸리티 : 사용 가능한 유틸리티 유형\n",
    "LotConfig : 로트 구성\n",
    "LandSlope : 부동산의 경사\n",
    "지역 : 에임스시 경계 내의 물리적 위치\n",
    "조건 1 : 주요 도로 또는 철도와의 근접성\n",
    "조건 2 : 주요 도로 또는 철도와의 근접성 (초가있는 경우)\n",
    "BldgType : 주거 형태\n",
    "HouseStyle : 주거 스타일\n",
    "OverallQual : 전체 재료 및 마감 품질\n",
    "OverallCond : 전체 상태 등급\n",
    "준공 연도 : 원래 공사 일\n",
    "YearRemodAdd : 리모델링 날짜\n",
    "RoofStyle : 지붕 유형\n",
    "RoofMatl : 지붕 재료\n",
    "Exterior1st : 주택 외장재\n",
    "외장 2 차 : 주택 외장재 (하나 이상인 경우)\n",
    "MasVnrType : 조적 베니어 유형\n",
    "MasVnrArea : 벽돌 베니어 면적 (평방 피트)\n",
    "ExterQual : 외장재 품질\n",
    "ExterCond : 외장재의 현황\n",
    "기초 : 기초 유형\n",
    "BsmtQual : 지하 높이\n",
    "BsmtCond : 지하실 개황\n",
    "BsmtExposure : 워크 아웃 또는 정원 수준의 지하 벽\n",
    "BsmtFinType1 : 지하 마감면의 품질\n",
    "BsmtFinSF1 : 유형 1 완성 된 평방 피트\n",
    "BsmtFinType2 : 두 번째 완성 된 영역의 품질 (있는 경우)\n",
    "BsmtFinSF2 : 유형 2 완성 된 평방 피트\n",
    "BsmtUnfSF : 미완성 된 지하실 면적\n",
    "TotalBsmtSF : 지하 총 평방 피트\n",
    "난방 : 난방의 종류\n",
    "HeatingQC : 난방 품질 및 상태\n",
    "CentralAir : 중앙 에어컨\n",
    "전기 : 전기 시스템\n",
    "1stFlrSF : 1 층 평방 피트\n",
    "2ndFlrSF : 2 층 평방 피트\n",
    "LowQualFinSF : 저품질 마감 평방 피트 (모든 층)\n",
    "GrLivArea : 지상 (지상) 거실 면적 평방 피트\n",
    "BsmtFullBath : 지하 전체 욕실\n",
    "BsmtHalfBath : 지하 반 욕실\n",
    "FullBath : 등급 이상의 전체 욕실\n",
    "HalfBath : 지상 절반의 목욕\n",
    "침실 : 지하층 이상의 침실 수\n",
    "주방 : 주방 수\n",
    "KitchenQual : 주방 품질\n",
    "TotRmsAbvGrd : 학년 이상의 총 방 (화장실 제외)\n",
    "기능 : 홈 기능 등급\n",
    "벽난로 : 벽난로 수\n",
    "FireplaceQu : 벽난로 품질\n",
    "GarageType : 차고 위치\n",
    "GarageYrBlt : 차고 건설 연도\n",
    "GarageFinish : 차고 내부 마감\n",
    "GarageCars : 차량 수용 가능 차고 크기\n",
    "GarageArea : 차고의 크기 (평방 피트)\n",
    "GarageQual : 차고 품질\n",
    "GarageCond : 차고 상태\n",
    "PavedDrive : 포장 된 진입로\n",
    "WoodDeckSF : 목재 데크 면적 (평방 피트)\n",
    "OpenPorchSF : 평방 피트 단위의 오픈 현관 영역\n",
    "EnclosedPorch : 닫힌 현관 영역 (평방 피트)\n",
    "3SsnPorch : 평방 피트의 3 계절 현관 면적\n",
    "ScreenPorch : 스크린 현관 면적 (평방 피트)\n",
    "PoolArea : 수영장 면적 (평방 피트)\n",
    "PoolQC : 수영장 품질\n",
    "울타리 : 울타리 품질\n",
    "MiscFeature : 다른 카테고리에서 다루지 않는 기타 기능\n",
    "MiscVal : 기타 기능의 $ Value\n",
    "MoSold : 월 판매\n",
    "YrSold : 판매 연도\n",
    "SaleType : 판매 유형\n",
    "SaleCondition : 판매 조건\n",
    "=============================================================================================="
   ]
  }
 ],
 "metadata": {
  "kernelspec": {
   "display_name": "Python 3",
   "language": "python",
   "name": "python3"
  },
  "language_info": {
   "codemirror_mode": {
    "name": "ipython",
    "version": 3
   },
   "file_extension": ".py",
   "mimetype": "text/x-python",
   "name": "python",
   "nbconvert_exporter": "python",
   "pygments_lexer": "ipython3",
   "version": "3.8.3"
  }
 },
 "nbformat": 4,
 "nbformat_minor": 4
}
